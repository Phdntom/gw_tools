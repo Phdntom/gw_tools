{
 "cells": [
  {
   "cell_type": "code",
   "execution_count": 1,
   "metadata": {},
   "outputs": [],
   "source": [
    "from __future__ import division, print_function"
   ]
  },
  {
   "cell_type": "code",
   "execution_count": 2,
   "metadata": {},
   "outputs": [],
   "source": [
    "import numpy as np"
   ]
  },
  {
   "cell_type": "code",
   "execution_count": 3,
   "metadata": {},
   "outputs": [],
   "source": [
    "races = ['charr', 'sylvari', 'human', 'norn', 'asura']\n",
    "profs = [\n",
    "    'guardian',\n",
    "    'warrior',\n",
    "    'revenant',\n",
    "    'thief',\n",
    "    'engineer',\n",
    "    'ranger',\n",
    "    'elementalist',\n",
    "    'mesmer',\n",
    "    'necromancer'\n",
    "]\n",
    "combos = {}\n",
    "for r in races:\n",
    "    for p in profs:\n",
    "        male = '{0}-{1}-male'.format(r, p)\n",
    "        combos[male] = 1200\n",
    "        female = '{0}-{1}-female'.format(r, p)\n",
    "        combos[female] = 1200"
   ]
  },
  {
   "cell_type": "code",
   "execution_count": 4,
   "metadata": {},
   "outputs": [],
   "source": [
    "dbname = 'all_ratings_file.csv'\n",
    "def save_db(combos):\n",
    "    with open(dbname, 'wb') as fobj:\n",
    "        ls = [\"{0},{1}\".format(k, v) for k, v in combos.items()]\n",
    "        fobj.write(\"\\n\".join(ls))\n",
    "\n",
    "def load_db():\n",
    "    combos = []\n",
    "    with open(dbname, 'rb') as fobj:\n",
    "        for line in fobj.readlines():\n",
    "            k, v = line.strip().split(',')\n",
    "            combos.append((k, int(v)))\n",
    "    return dict(combos)"
   ]
  },
  {
   "cell_type": "code",
   "execution_count": 5,
   "metadata": {},
   "outputs": [],
   "source": [
    "save_db(combos)"
   ]
  },
  {
   "cell_type": "code",
   "execution_count": 7,
   "metadata": {},
   "outputs": [],
   "source": [
    "def R_score(rating):\n",
    "    \n",
    "    return 10 ** (rating / 400)\n",
    "\n",
    "def E_value(R1, R2):\n",
    "    \n",
    "    return R1 / (R1 + R2)\n",
    "\n",
    "def update_rating(r_old, S, E):\n",
    "    K = 32\n",
    "    return r_old + K * (S - E)"
   ]
  },
  {
   "cell_type": "code",
   "execution_count": 42,
   "metadata": {},
   "outputs": [],
   "source": [
    "def process(left, right, response, combos):\n",
    "\n",
    "    left_r = combos[left]\n",
    "    right_r = combos[right]\n",
    "    left_R = R_score(left_r)\n",
    "    right_R = R_score(right_r)\n",
    "    left_E = E_value(left_R, right_R)\n",
    "    right_E = E_value(right_R, left_R)\n",
    "    \n",
    "    #print(left_r, left_R, left_E)\n",
    "    #print(right_r, right_R, right_E)\n",
    "    \n",
    "    if response == 'L':\n",
    "        new_left = update_rating(left_r, 1, left_E)\n",
    "        new_right = update_rating(right_r, 0, right_E)\n",
    "        #print('running L block')\n",
    "    elif response == 'R':\n",
    "        new_left = update_rating(left_r, 0, left_E)\n",
    "        new_right = update_rating(right_r, 1, right_E)\n",
    "        \n",
    "    combos[left] = new_left\n",
    "    combos[right] = new_right"
   ]
  },
  {
   "cell_type": "code",
   "execution_count": 43,
   "metadata": {},
   "outputs": [],
   "source": [
    "combos = load_db()"
   ]
  },
  {
   "cell_type": "code",
   "execution_count": 44,
   "metadata": {},
   "outputs": [],
   "source": [
    "response = 'L'\n",
    "num_iters = 100"
   ]
  },
  {
   "cell_type": "code",
   "execution_count": 45,
   "metadata": {},
   "outputs": [],
   "source": [
    "for i in range(num_iters):\n",
    "    left, right = np.random.choice(combos.keys(), size=2, replace=False)\n",
    "\n",
    "    text = \"L: {0} vs R: {1}\".format(left, right)\n",
    "    if response not in ['L', 'R', 'S']:\n",
    "        print('bad input')\n",
    "    elif response == 'S':\n",
    "        print('DONE')\n",
    "    else:\n",
    "        process(left, right, response, combos)\n"
   ]
  },
  {
   "cell_type": "code",
   "execution_count": 47,
   "metadata": {},
   "outputs": [
    {
     "data": {
      "text/plain": [
       "[('norn-revenant-male', 1245.7634562658143),\n",
       " ('sylvari-ranger-female', 1245.1004474267124),\n",
       " ('norn-engineer-female', 1232.0323466097632),\n",
       " ('charr-ranger-male', 1231.296039816241),\n",
       " ('sylvari-necromancer-female', 1231.263693206478),\n",
       " ('charr-warrior-female', 1231.2371619523485),\n",
       " ('asura-revenant-female', 1231.1501631676533),\n",
       " ('charr-ranger-female', 1230.5996449072265),\n",
       " ('charr-mesmer-female', 1230.5612260339533),\n",
       " ('human-engineer-male', 1230.5304984710244),\n",
       " ('norn-warrior-male', 1228.3057808085869),\n",
       " ('asura-revenant-male', 1227.1196130818341),\n",
       " ('asura-mesmer-male', 1217.3360821644037),\n",
       " ('asura-thief-female', 1216.8033982701363),\n",
       " ('human-engineer-female', 1216.736306793522),\n",
       " ('sylvari-mesmer-female', 1216.736306793522),\n",
       " ('human-revenant-male', 1216.6995046979232),\n",
       " ('norn-necromancer-female', 1216.0),\n",
       " ('charr-engineer-female', 1216.0),\n",
       " ('sylvari-warrior-male', 1216.0),\n",
       " ('asura-necromancer-male', 1216.0),\n",
       " ('asura-ranger-female', 1216.0),\n",
       " ('sylvari-revenant-male', 1215.9323273572415),\n",
       " ('human-ranger-male', 1215.8693622431913),\n",
       " ('sylvari-thief-female', 1215.3664053465716),\n",
       " ('sylvari-guardian-female', 1215.263693206478),\n",
       " ('norn-necromancer-male', 1215.2299317781294),\n",
       " ('asura-guardian-female', 1213.8278203282016),\n",
       " ('norn-mesmer-male', 1213.26015919129),\n",
       " ('sylvari-engineer-female', 1213.0999119437308),\n",
       " ('human-mesmer-female', 1206.2602863893576),\n",
       " ('charr-necromancer-female', 1204.048994372015),\n",
       " ('human-mesmer-male', 1203.690281576896),\n",
       " ('norn-ranger-female', 1203.4421911248926),\n",
       " ('sylvari-engineer-male', 1202.832415414151),\n",
       " ('sylvari-elementalist-male', 1200.768656696543),\n",
       " ('norn-thief-female', 1200.702368880693),\n",
       " ('norn-revenant-female', 1200.701065136588),\n",
       " ('charr-warrior-male', 1200),\n",
       " ('sylvari-thief-male', 1200),\n",
       " ('human-guardian-male', 1200),\n",
       " ('norn-elementalist-male', 1200),\n",
       " ('charr-elementalist-female', 1200),\n",
       " ('norn-elementalist-female', 1200),\n",
       " ('human-thief-male', 1200),\n",
       " ('human-revenant-female', 1200),\n",
       " ('charr-thief-female', 1199.9337452600676),\n",
       " ('human-warrior-female', 1199.9323985030521),\n",
       " ('asura-thief-male', 1199.294487590797),\n",
       " ('asura-engineer-female', 1199.263693206478),\n",
       " ('charr-thief-male', 1199.263693206478),\n",
       " ('norn-ranger-male', 1199.263693206478),\n",
       " ('asura-necromancer-female', 1199.233189702316),\n",
       " ('human-elementalist-male', 1198.3610483076932),\n",
       " ('human-elementalist-female', 1197.9013014474428),\n",
       " ('charr-guardian-female', 1197.7702160576678),\n",
       " ('norn-thief-male', 1197.2725021836538),\n",
       " ('asura-warrior-male', 1197.0660531429073),\n",
       " ('norn-mesmer-female', 1188.2619443323226),\n",
       " ('asura-ranger-male', 1186.1721796717984),\n",
       " ('human-ranger-female', 1186.1260967595813),\n",
       " ('sylvari-revenant-female', 1185.4934771488101),\n",
       " ('asura-elementalist-female', 1185.432791879043),\n",
       " ('norn-guardian-male', 1184.1854518261118),\n",
       " ('human-guardian-female', 1184.064039994993),\n",
       " ('charr-engineer-male', 1184.0338330211207),\n",
       " ('sylvari-elementalist-female', 1184.0),\n",
       " ('charr-revenant-male', 1184.0),\n",
       " ('charr-revenant-female', 1184.0),\n",
       " ('sylvari-warrior-female', 1184.0),\n",
       " ('asura-engineer-male', 1184.0),\n",
       " ('charr-mesmer-male', 1184.0),\n",
       " ('asura-mesmer-female', 1184.0),\n",
       " ('asura-guardian-male', 1184.0),\n",
       " ('norn-guardian-female', 1183.263693206478),\n",
       " ('human-necromancer-female', 1183.263693206478),\n",
       " ('human-thief-female', 1182.5981711137829),\n",
       " ('norn-warrior-female', 1182.5641271217237),\n",
       " ('sylvari-necromancer-male', 1182.5321245657278),\n",
       " ('sylvari-ranger-male', 1182.5304984710244),\n",
       " ('charr-necromancer-male', 1170.8965603598076),\n",
       " ('charr-guardian-male', 1170.4952534234387),\n",
       " ('charr-elementalist-male', 1169.4695015289756),\n",
       " ('asura-warrior-female', 1168.896220675618),\n",
       " ('asura-elementalist-male', 1168.8360975073947),\n",
       " ('human-necromancer-male', 1168.736306793522),\n",
       " ('sylvari-mesmer-male', 1168.7305991554442),\n",
       " ('sylvari-guardian-male', 1168.16616496456),\n",
       " ('norn-engineer-male', 1168.0353196554968),\n",
       " ('human-warrior-male', 1141.0922903486012)]"
      ]
     },
     "execution_count": 47,
     "metadata": {},
     "output_type": "execute_result"
    }
   ],
   "source": [
    "sorted(combos.items(), key=lambda k: k[1], reverse=True)"
   ]
  },
  {
   "cell_type": "code",
   "execution_count": null,
   "metadata": {},
   "outputs": [],
   "source": []
  }
 ],
 "metadata": {
  "kernelspec": {
   "display_name": "Python 2",
   "language": "python",
   "name": "python2"
  },
  "language_info": {
   "codemirror_mode": {
    "name": "ipython",
    "version": 2
   },
   "file_extension": ".py",
   "mimetype": "text/x-python",
   "name": "python",
   "nbconvert_exporter": "python",
   "pygments_lexer": "ipython2",
   "version": "2.7.10"
  }
 },
 "nbformat": 4,
 "nbformat_minor": 2
}
