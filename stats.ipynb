{
 "cells": [
  {
   "cell_type": "code",
   "execution_count": 52,
   "metadata": {
    "collapsed": true
   },
   "outputs": [],
   "source": [
    "from __future__ import division, print_function"
   ]
  },
  {
   "cell_type": "code",
   "execution_count": 1,
   "metadata": {
    "collapsed": true
   },
   "outputs": [],
   "source": [
    "majors = sorted(['power', 'prec', 'cond', 'vit', 'tough', 'heal'])\n",
    "minors = sorted(majors + ['fero', 'exp', 'conc'])"
   ]
  },
  {
   "cell_type": "code",
   "execution_count": 2,
   "metadata": {
    "collapsed": false
   },
   "outputs": [
    {
     "data": {
      "text/plain": [
       "['cond', 'heal', 'power', 'prec', 'tough', 'vit']"
      ]
     },
     "execution_count": 2,
     "metadata": {},
     "output_type": "execute_result"
    }
   ],
   "source": [
    "majors"
   ]
  },
  {
   "cell_type": "code",
   "execution_count": 3,
   "metadata": {
    "collapsed": false
   },
   "outputs": [
    {
     "data": {
      "text/plain": [
       "['conc', 'cond', 'exp', 'fero', 'heal', 'power', 'prec', 'tough', 'vit']"
      ]
     },
     "execution_count": 3,
     "metadata": {},
     "output_type": "execute_result"
    }
   ],
   "source": [
    "minors"
   ]
  },
  {
   "cell_type": "code",
   "execution_count": 27,
   "metadata": {
    "collapsed": false
   },
   "outputs": [],
   "source": [
    "def verify_combo(major, minor):\n",
    "    attr = set(major)\n",
    "    attr = attr.union(minor)\n",
    "    if len(attr) != 4:\n",
    "        return False\n",
    "    \n",
    "    # exp only good with condition (vigilant sucks)\n",
    "    if 'exp' in attr and 'cond' not in attr:\n",
    "        return False\n",
    "    \n",
    "    # fero only good with power\n",
    "    if 'power' not in attr and 'fero' in attr:\n",
    "        return False\n",
    "    \n",
    "    # prec is a bad standalone offensive stat\n",
    "    if 'prec' in attr and not ('cond' in attr or 'power' in attr):\n",
    "        return False\n",
    "    \n",
    "    \n",
    "    if 'prec' in major:\n",
    "        return False\n",
    "    if 'tough' in major:\n",
    "        return False\n",
    "    if 'vit' in major:\n",
    "        return False\n",
    "    \n",
    "    return True"
   ]
  },
  {
   "cell_type": "code",
   "execution_count": 15,
   "metadata": {
    "collapsed": true
   },
   "outputs": [],
   "source": [
    "from itertools import combinations"
   ]
  },
  {
   "cell_type": "code",
   "execution_count": 28,
   "metadata": {
    "collapsed": false
   },
   "outputs": [],
   "source": [
    "all_combos = []\n",
    "val_combos = []\n",
    "for major2 in combinations(majors, 2):\n",
    "    for minor2 in combinations(minors, 2):\n",
    "        combo = (major2, minor2)\n",
    "        if verify_combo(major2, minor2):\n",
    "            val_combos.append(combo)\n",
    "        all_combos.append(combo)"
   ]
  },
  {
   "cell_type": "code",
   "execution_count": 29,
   "metadata": {
    "collapsed": false
   },
   "outputs": [
    {
     "data": {
      "text/plain": [
       "540"
      ]
     },
     "execution_count": 29,
     "metadata": {},
     "output_type": "execute_result"
    }
   ],
   "source": [
    "len(all_combos)"
   ]
  },
  {
   "cell_type": "code",
   "execution_count": 30,
   "metadata": {
    "collapsed": false
   },
   "outputs": [
    {
     "data": {
      "text/plain": [
       "53"
      ]
     },
     "execution_count": 30,
     "metadata": {},
     "output_type": "execute_result"
    }
   ],
   "source": [
    "len(val_combos)"
   ]
  },
  {
   "cell_type": "code",
   "execution_count": 31,
   "metadata": {
    "collapsed": false
   },
   "outputs": [],
   "source": [
    "from collections import defaultdict\n",
    "rot = defaultdict(list)\n",
    "for M, m in val_combos:\n",
    "    k = tuple(sorted(list(set(M).union(set(m)))))\n",
    "    rot[k].append((M, m))"
   ]
  },
  {
   "cell_type": "code",
   "execution_count": null,
   "metadata": {
    "collapsed": false
   },
   "outputs": [],
   "source": []
  },
  {
   "cell_type": "code",
   "execution_count": 32,
   "metadata": {
    "collapsed": false
   },
   "outputs": [
    {
     "name": "stdout",
     "output_type": "stream",
     "text": [
      "[(('cond', 'power'), ('conc', 'prec'))]\n",
      "\n",
      "[(('heal', 'power'), ('conc', 'fero'))]\n",
      "\n",
      "[(('cond', 'heal'), ('conc', 'vit'))]\n",
      "\n",
      "[(('cond', 'power'), ('conc', 'vit'))]\n",
      "\n",
      "[(('cond', 'power'), ('conc', 'fero'))]\n",
      "\n",
      "[(('cond', 'heal'), ('conc', 'prec'))]\n",
      "\n",
      "[(('heal', 'power'), ('conc', 'prec'))]\n",
      "\n",
      "[(('cond', 'power'), ('conc', 'exp'))]\n",
      "\n",
      "[(('cond', 'heal'), ('conc', 'power')), (('cond', 'power'), ('conc', 'heal')), (('heal', 'power'), ('conc', 'cond'))]\n",
      "\n",
      "[(('heal', 'power'), ('conc', 'vit'))]\n",
      "\n",
      "[(('cond', 'heal'), ('conc', 'exp'))]\n",
      "\n"
     ]
    }
   ],
   "source": [
    "for x in rot.keys():\n",
    "    if 'tough' in x:\n",
    "        continue\n",
    "    if 'conc' in x:\n",
    "        print rot[x]\n",
    "        print"
   ]
  },
  {
   "cell_type": "code",
   "execution_count": null,
   "metadata": {
    "collapsed": true
   },
   "outputs": [],
   "source": []
  },
  {
   "cell_type": "code",
   "execution_count": null,
   "metadata": {
    "collapsed": true
   },
   "outputs": [],
   "source": []
  },
  {
   "cell_type": "code",
   "execution_count": null,
   "metadata": {
    "collapsed": true
   },
   "outputs": [],
   "source": []
  },
  {
   "cell_type": "code",
   "execution_count": null,
   "metadata": {
    "collapsed": true
   },
   "outputs": [],
   "source": []
  },
  {
   "cell_type": "code",
   "execution_count": null,
   "metadata": {
    "collapsed": true
   },
   "outputs": [],
   "source": []
  },
  {
   "cell_type": "code",
   "execution_count": null,
   "metadata": {
    "collapsed": true
   },
   "outputs": [],
   "source": []
  },
  {
   "cell_type": "code",
   "execution_count": null,
   "metadata": {
    "collapsed": true
   },
   "outputs": [],
   "source": []
  },
  {
   "cell_type": "code",
   "execution_count": null,
   "metadata": {
    "collapsed": true
   },
   "outputs": [],
   "source": []
  },
  {
   "cell_type": "code",
   "execution_count": null,
   "metadata": {
    "collapsed": true
   },
   "outputs": [],
   "source": []
  },
  {
   "cell_type": "code",
   "execution_count": null,
   "metadata": {
    "collapsed": true
   },
   "outputs": [],
   "source": []
  },
  {
   "cell_type": "code",
   "execution_count": 61,
   "metadata": {
    "collapsed": true
   },
   "outputs": [],
   "source": [
    "offensive = set(['power', 'precision', 'malice', 'ferocity', 'expertise'])\n",
    "defensive = set(['vitality', 'toughness', 'healing', 'concentration'])"
   ]
  },
  {
   "cell_type": "code",
   "execution_count": 62,
   "metadata": {
    "collapsed": true
   },
   "outputs": [],
   "source": [
    "first3 = 250\n",
    "second3 = 180\n",
    "first4 = 215\n",
    "second4 = 118"
   ]
  },
  {
   "cell_type": "code",
   "execution_count": 63,
   "metadata": {
    "collapsed": true
   },
   "outputs": [],
   "source": [
    "def assign_3(tup3):\n",
    "    \n",
    "    score = 0\n",
    "    score += (tup3[0] in offensive) * first3\n",
    "    score += (tup3[1] in offensive) * second3\n",
    "    score += (tup3[2] in offensive) * second3\n",
    "    \n",
    "    return score, set([tup3[0]]), score / (first3 + 2*second3)\n",
    "\n",
    "def assign_4(tup4):\n",
    "    score = 0\n",
    "    score += (tup4[0] in offensive) * first4\n",
    "    score += (tup4[1] in offensive) * first4\n",
    "    score += (tup4[2] in offensive) * second4\n",
    "    score += (tup4[3] in offensive) * second4\n",
    "    \n",
    "    \n",
    "    return score, set([tup4[0], tup4[1]]), score / (2 * (first4 + second4))"
   ]
  },
  {
   "cell_type": "code",
   "execution_count": 71,
   "metadata": {
    "collapsed": true
   },
   "outputs": [],
   "source": [
    "berserker = ('power', 'precision', 'ferocity')\n",
    "assassins = ('precision', 'power', 'ferocity')\n",
    "sinister = ('malice', 'power', 'precision')\n",
    "rampager = ('precision', 'power', 'malice')\n",
    "\n",
    "# 4 stats\n",
    "marauder = ('power', 'precision', 'vitality', 'ferocity')\n",
    "viper = ('power', 'malice', 'precision', 'expertise')\n",
    "crusader = ('power', 'toughness', 'healing', 'concentration')"
   ]
  },
  {
   "cell_type": "code",
   "execution_count": 72,
   "metadata": {
    "collapsed": false
   },
   "outputs": [
    {
     "data": {
      "text/plain": [
       "(610, {'power'}, 1.0)"
      ]
     },
     "execution_count": 72,
     "metadata": {},
     "output_type": "execute_result"
    }
   ],
   "source": [
    "assign_3(berserker)"
   ]
  },
  {
   "cell_type": "code",
   "execution_count": 73,
   "metadata": {
    "collapsed": false
   },
   "outputs": [
    {
     "data": {
      "text/plain": [
       "(610, {'precision'}, 1.0)"
      ]
     },
     "execution_count": 73,
     "metadata": {},
     "output_type": "execute_result"
    }
   ],
   "source": [
    "assign_3(assassins)"
   ]
  },
  {
   "cell_type": "code",
   "execution_count": 74,
   "metadata": {
    "collapsed": false
   },
   "outputs": [
    {
     "data": {
      "text/plain": [
       "(610, {'malice'}, 1.0)"
      ]
     },
     "execution_count": 74,
     "metadata": {},
     "output_type": "execute_result"
    }
   ],
   "source": [
    "assign_3(sinister)"
   ]
  },
  {
   "cell_type": "code",
   "execution_count": 75,
   "metadata": {
    "collapsed": false
   },
   "outputs": [
    {
     "data": {
      "text/plain": [
       "(610, {'precision'}, 1.0)"
      ]
     },
     "execution_count": 75,
     "metadata": {},
     "output_type": "execute_result"
    }
   ],
   "source": [
    "assign_3(rampager)"
   ]
  },
  {
   "cell_type": "code",
   "execution_count": null,
   "metadata": {
    "collapsed": true
   },
   "outputs": [],
   "source": []
  },
  {
   "cell_type": "code",
   "execution_count": 68,
   "metadata": {
    "collapsed": false
   },
   "outputs": [
    {
     "data": {
      "text/plain": [
       "(548, {'power', 'precision'}, 0.8228228228228228)"
      ]
     },
     "execution_count": 68,
     "metadata": {},
     "output_type": "execute_result"
    }
   ],
   "source": [
    "assign_4(marauder)"
   ]
  },
  {
   "cell_type": "code",
   "execution_count": 69,
   "metadata": {
    "collapsed": false
   },
   "outputs": [
    {
     "data": {
      "text/plain": [
       "(666, {'malice', 'power'}, 1.0)"
      ]
     },
     "execution_count": 69,
     "metadata": {},
     "output_type": "execute_result"
    }
   ],
   "source": [
    "assign_4(viper)"
   ]
  },
  {
   "cell_type": "code",
   "execution_count": 70,
   "metadata": {
    "collapsed": false
   },
   "outputs": [
    {
     "data": {
      "text/plain": [
       "(215, {'power', 'toughness'}, 0.3228228228228228)"
      ]
     },
     "execution_count": 70,
     "metadata": {},
     "output_type": "execute_result"
    }
   ],
   "source": [
    "assign_4(crusader)"
   ]
  },
  {
   "cell_type": "code",
   "execution_count": null,
   "metadata": {
    "collapsed": true
   },
   "outputs": [],
   "source": []
  },
  {
   "cell_type": "code",
   "execution_count": null,
   "metadata": {
    "collapsed": true
   },
   "outputs": [],
   "source": []
  },
  {
   "cell_type": "code",
   "execution_count": null,
   "metadata": {
    "collapsed": true
   },
   "outputs": [],
   "source": []
  },
  {
   "cell_type": "code",
   "execution_count": null,
   "metadata": {
    "collapsed": true
   },
   "outputs": [],
   "source": []
  },
  {
   "cell_type": "code",
   "execution_count": null,
   "metadata": {
    "collapsed": true
   },
   "outputs": [],
   "source": []
  },
  {
   "cell_type": "code",
   "execution_count": null,
   "metadata": {
    "collapsed": true
   },
   "outputs": [],
   "source": []
  },
  {
   "cell_type": "code",
   "execution_count": null,
   "metadata": {
    "collapsed": true
   },
   "outputs": [],
   "source": []
  },
  {
   "cell_type": "code",
   "execution_count": null,
   "metadata": {
    "collapsed": true
   },
   "outputs": [],
   "source": []
  },
  {
   "cell_type": "code",
   "execution_count": null,
   "metadata": {
    "collapsed": true
   },
   "outputs": [],
   "source": []
  },
  {
   "cell_type": "code",
   "execution_count": null,
   "metadata": {
    "collapsed": true
   },
   "outputs": [],
   "source": []
  },
  {
   "cell_type": "code",
   "execution_count": null,
   "metadata": {
    "collapsed": true
   },
   "outputs": [],
   "source": []
  },
  {
   "cell_type": "code",
   "execution_count": null,
   "metadata": {
    "collapsed": true
   },
   "outputs": [],
   "source": []
  },
  {
   "cell_type": "code",
   "execution_count": null,
   "metadata": {
    "collapsed": true
   },
   "outputs": [],
   "source": []
  },
  {
   "cell_type": "code",
   "execution_count": null,
   "metadata": {
    "collapsed": true
   },
   "outputs": [],
   "source": []
  },
  {
   "cell_type": "code",
   "execution_count": null,
   "metadata": {
    "collapsed": true
   },
   "outputs": [],
   "source": []
  },
  {
   "cell_type": "code",
   "execution_count": null,
   "metadata": {
    "collapsed": true
   },
   "outputs": [],
   "source": []
  },
  {
   "cell_type": "code",
   "execution_count": 25,
   "metadata": {
    "collapsed": false
   },
   "outputs": [],
   "source": [
    "def is_new_tup(new_tup, tup_set):\n",
    "    perm1 = new_tup[1], new_tup[0], new_tup[2], new_tup[3]\n",
    "    perm2 = new_tup[0], new_tup[1], new_tup[3], new_tup[2]\n",
    "    perm3 = new_tup[1], new_tup[0], new_tup[3], new_tup[1]\n",
    "    dup = new_tup in tup_set\\\n",
    "        or perm1 in tup_set\\\n",
    "        or perm2 in tup_set\\\n",
    "        or perm3 in tup_set\n",
    "        \n",
    "    return not dup"
   ]
  },
  {
   "cell_type": "code",
   "execution_count": 38,
   "metadata": {
    "collapsed": true
   },
   "outputs": [],
   "source": [
    "top1 = sorted(['power', 'cond', 'tough', 'heal'])\n",
    "top2 = sorted(['power', 'cond', 'tough', 'heal', 'prec'])\n",
    "\n",
    "low1 = sorted(['tough', 'heal', 'prec', 'vita', 'fero', 'exp', 'conc'])"
   ]
  },
  {
   "cell_type": "code",
   "execution_count": 39,
   "metadata": {
    "collapsed": false
   },
   "outputs": [],
   "source": [
    "from collections import defaultdict\n",
    "from itertools import combinations\n",
    "stats = set([])\n",
    "for x in top1:\n",
    "    for y in top2:\n",
    "        if y == x:\n",
    "            continue\n",
    "            \n",
    "        # don't pair prec with defensive main stats\n",
    "        if x in {'tough', 'heal'} and y == 'prec':\n",
    "            continue\n",
    "        for z in combinations(low1, 2):\n",
    "            tup = (x, y, z[0], z[1])\n",
    "            major = {x, y}\n",
    "            if z[0] in major or z[1] in major:\n",
    "                continue\n",
    "                \n",
    "            # don't add exp with non condition stats\n",
    "            if 'exp' in z and 'cond' not in major:\n",
    "                continue\n",
    "            # don't put ferocity with partial condi stats\n",
    "            if 'cond' in tup and 'fero' in tup:\n",
    "                continue\n",
    "                \n",
    "            if is_new_tup(tup, stats):\n",
    "                stats.add(tup)"
   ]
  },
  {
   "cell_type": "code",
   "execution_count": 40,
   "metadata": {
    "collapsed": false
   },
   "outputs": [
    {
     "data": {
      "text/plain": [
       "{('cond', 'heal', 'conc', 'exp'),\n",
       " ('cond', 'heal', 'conc', 'prec'),\n",
       " ('cond', 'heal', 'conc', 'tough'),\n",
       " ('cond', 'heal', 'conc', 'vita'),\n",
       " ('cond', 'heal', 'exp', 'prec'),\n",
       " ('cond', 'heal', 'exp', 'tough'),\n",
       " ('cond', 'heal', 'exp', 'vita'),\n",
       " ('cond', 'heal', 'prec', 'tough'),\n",
       " ('cond', 'heal', 'prec', 'vita'),\n",
       " ('cond', 'heal', 'tough', 'vita'),\n",
       " ('cond', 'power', 'conc', 'exp'),\n",
       " ('cond', 'power', 'conc', 'heal'),\n",
       " ('cond', 'power', 'conc', 'prec'),\n",
       " ('cond', 'power', 'conc', 'tough'),\n",
       " ('cond', 'power', 'conc', 'vita'),\n",
       " ('cond', 'power', 'exp', 'heal'),\n",
       " ('cond', 'power', 'exp', 'prec'),\n",
       " ('cond', 'power', 'exp', 'tough'),\n",
       " ('cond', 'power', 'exp', 'vita'),\n",
       " ('cond', 'power', 'heal', 'prec'),\n",
       " ('cond', 'power', 'heal', 'tough'),\n",
       " ('cond', 'power', 'heal', 'vita'),\n",
       " ('cond', 'power', 'prec', 'tough'),\n",
       " ('cond', 'power', 'prec', 'vita'),\n",
       " ('cond', 'power', 'tough', 'vita'),\n",
       " ('cond', 'prec', 'conc', 'exp'),\n",
       " ('cond', 'prec', 'conc', 'heal'),\n",
       " ('cond', 'prec', 'conc', 'tough'),\n",
       " ('cond', 'prec', 'conc', 'vita'),\n",
       " ('cond', 'prec', 'exp', 'heal'),\n",
       " ('cond', 'prec', 'exp', 'tough'),\n",
       " ('cond', 'prec', 'exp', 'vita'),\n",
       " ('cond', 'prec', 'heal', 'tough'),\n",
       " ('cond', 'prec', 'heal', 'vita'),\n",
       " ('cond', 'prec', 'tough', 'vita'),\n",
       " ('cond', 'tough', 'conc', 'exp'),\n",
       " ('cond', 'tough', 'conc', 'heal'),\n",
       " ('cond', 'tough', 'conc', 'prec'),\n",
       " ('cond', 'tough', 'conc', 'vita'),\n",
       " ('cond', 'tough', 'exp', 'heal'),\n",
       " ('cond', 'tough', 'exp', 'prec'),\n",
       " ('cond', 'tough', 'exp', 'vita'),\n",
       " ('cond', 'tough', 'heal', 'prec'),\n",
       " ('cond', 'tough', 'heal', 'vita'),\n",
       " ('cond', 'tough', 'prec', 'vita'),\n",
       " ('heal', 'power', 'conc', 'fero'),\n",
       " ('heal', 'power', 'conc', 'prec'),\n",
       " ('heal', 'power', 'conc', 'tough'),\n",
       " ('heal', 'power', 'conc', 'vita'),\n",
       " ('heal', 'power', 'fero', 'prec'),\n",
       " ('heal', 'power', 'fero', 'tough'),\n",
       " ('heal', 'power', 'fero', 'vita'),\n",
       " ('heal', 'power', 'prec', 'tough'),\n",
       " ('heal', 'power', 'prec', 'vita'),\n",
       " ('heal', 'power', 'tough', 'vita'),\n",
       " ('heal', 'tough', 'conc', 'fero'),\n",
       " ('heal', 'tough', 'conc', 'prec'),\n",
       " ('heal', 'tough', 'conc', 'vita'),\n",
       " ('heal', 'tough', 'fero', 'prec'),\n",
       " ('heal', 'tough', 'fero', 'vita'),\n",
       " ('heal', 'tough', 'prec', 'vita'),\n",
       " ('power', 'prec', 'conc', 'fero'),\n",
       " ('power', 'prec', 'conc', 'heal'),\n",
       " ('power', 'prec', 'conc', 'tough'),\n",
       " ('power', 'prec', 'conc', 'vita'),\n",
       " ('power', 'prec', 'fero', 'heal'),\n",
       " ('power', 'prec', 'fero', 'tough'),\n",
       " ('power', 'prec', 'fero', 'vita'),\n",
       " ('power', 'prec', 'heal', 'tough'),\n",
       " ('power', 'prec', 'heal', 'vita'),\n",
       " ('power', 'prec', 'tough', 'vita'),\n",
       " ('power', 'tough', 'conc', 'fero'),\n",
       " ('power', 'tough', 'conc', 'heal'),\n",
       " ('power', 'tough', 'conc', 'prec'),\n",
       " ('power', 'tough', 'conc', 'vita'),\n",
       " ('power', 'tough', 'fero', 'heal'),\n",
       " ('power', 'tough', 'fero', 'prec'),\n",
       " ('power', 'tough', 'fero', 'vita'),\n",
       " ('power', 'tough', 'heal', 'prec'),\n",
       " ('power', 'tough', 'heal', 'vita'),\n",
       " ('power', 'tough', 'prec', 'vita')}"
      ]
     },
     "execution_count": 40,
     "metadata": {},
     "output_type": "execute_result"
    }
   ],
   "source": [
    "stats"
   ]
  },
  {
   "cell_type": "code",
   "execution_count": null,
   "metadata": {
    "collapsed": true
   },
   "outputs": [],
   "source": [
    "# sorcerer, warlock, priest, "
   ]
  }
 ],
 "metadata": {
  "kernelspec": {
   "display_name": "Python 2",
   "language": "python",
   "name": "python2"
  },
  "language_info": {
   "codemirror_mode": {
    "name": "ipython",
    "version": 2
   },
   "file_extension": ".py",
   "mimetype": "text/x-python",
   "name": "python",
   "nbconvert_exporter": "python",
   "pygments_lexer": "ipython2",
   "version": "2.7.10"
  }
 },
 "nbformat": 4,
 "nbformat_minor": 0
}
