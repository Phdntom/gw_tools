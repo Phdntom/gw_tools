{
 "cells": [
  {
   "cell_type": "code",
   "execution_count": 1,
   "metadata": {
    "collapsed": true
   },
   "outputs": [],
   "source": [
    "from __future__ import division, print_function"
   ]
  },
  {
   "cell_type": "code",
   "execution_count": 2,
   "metadata": {
    "collapsed": true
   },
   "outputs": [],
   "source": [
    "import numpy as np"
   ]
  },
  {
   "cell_type": "code",
   "execution_count": 4,
   "metadata": {
    "collapsed": false
   },
   "outputs": [
    {
     "data": {
      "text/plain": [
       "0.0865701297356597"
      ]
     },
     "execution_count": 4,
     "metadata": {},
     "output_type": "execute_result"
    }
   ],
   "source": [
    "np.random.rand()"
   ]
  },
  {
   "cell_type": "code",
   "execution_count": 5,
   "metadata": {
    "collapsed": true
   },
   "outputs": [],
   "source": [
    "def is_winner(win_rate):\n",
    "    roll = np.random.rand()\n",
    "    if win_rate > roll:\n",
    "        return True\n",
    "    else:\n",
    "        return False"
   ]
  },
  {
   "cell_type": "code",
   "execution_count": 6,
   "metadata": {
    "collapsed": false
   },
   "outputs": [
    {
     "data": {
      "text/plain": [
       "0.50098"
      ]
     },
     "execution_count": 6,
     "metadata": {},
     "output_type": "execute_result"
    }
   ],
   "source": [
    "wins = 0\n",
    "for x in range(100000):\n",
    "    if is_winner(.5):\n",
    "        wins += 1\n",
    "wins / 100000"
   ]
  },
  {
   "cell_type": "code",
   "execution_count": 5,
   "metadata": {
    "collapsed": true
   },
   "outputs": [],
   "source": [
    "division_names = {0: 'amber', 1: 'emerald', 2: 'sapphire', 3: 'ruby', 4:'diamond', 5:'legendary'}\n",
    "division_tiers = {'amber': 5, 'emerald': 5, 'sapphire': 5, 'ruby': 6, 'diamond': 7, 'legendary': 5}\n",
    "tier_size = {'amber': 3, 'emerald': 4, 'sapphire': 5, 'ruby': 5, 'diamond': 5, 'legendary': 5}"
   ]
  },
  {
   "cell_type": "code",
   "execution_count": 6,
   "metadata": {
    "collapsed": false
   },
   "outputs": [],
   "source": [
    "class pvp_player():\n",
    "    \n",
    "    def __init__(self, win_rate=0.5):\n",
    "        self.div_ix = 0\n",
    "        self.win_streak = 0\n",
    "        self.pips = {'amber': 0,\n",
    "                     'emerald': 0,\n",
    "                     'sapphire': 0,\n",
    "                     'ruby': 0,\n",
    "                     'diamond': 0,\n",
    "                     'legendary': 0,\n",
    "                     'legend_rolls': 0\n",
    "                    }\n",
    "        self.win_rate = win_rate\n",
    "    \n",
    "    def __str__(self):\n",
    "        tier = self.current_tier()\n",
    "        division = self.division_name()\n",
    "  \n",
    "        base = 'Division: {division}'.format(division=division)\n",
    "        if division == 'legendary':\n",
    "            base += 'x{rolls}'.format(rolls=self.pips['legend_rolls'])\n",
    "            \n",
    "        return base + '\\n\\tTier {tier}\\n\\tPips {pips}\\n'.format(tier = tier,\n",
    "                                                      pips = self.pips[division]\n",
    "                                                     )\n",
    "    \n",
    "    def play_game(self):\n",
    "        roll = np.random.rand()\n",
    "        if self.win_rate > roll:\n",
    "            return True\n",
    "        else:\n",
    "            return False        \n",
    "        \n",
    "    def division_name(self):\n",
    "        return division_names[self.div_ix]\n",
    "    \n",
    "    def div_tier_max(self, division):\n",
    "        return division_tiers[division]\n",
    "    \n",
    "    \n",
    "    def current_tier(self):\n",
    "        cur_div_name = self.division_name()\n",
    "        return self.pips[cur_div_name] // tier_size[cur_div_name] + 1\n",
    "    \n",
    "    def update_game(self, result):\n",
    "        if self.div_ix == 0:\n",
    "            self.easy_game(result)\n",
    "        elif self.div_ix in [1,2]:\n",
    "            self.med_game(result)\n",
    "        else:\n",
    "            self.hard_game(result)\n",
    "\n",
    "            \n",
    "    def easy_game(self, result):\n",
    "        division = self.division_name()\n",
    "        \n",
    "        if result: # win\n",
    "            if self.win_streak > 2 or self.win_streak < -2:\n",
    "                self.pips[division] += 2\n",
    "            else:\n",
    "                self.pips[division] += 1\n",
    "            self.win_streak += 1\n",
    "            \n",
    "        else: # loss\n",
    "            if self.win_streak < 0:\n",
    "                self.win_streak -= 1\n",
    "            else:\n",
    "                self.win_streak = 0\n",
    "\n",
    "                \n",
    "        if self.current_tier() == self.div_tier_max(division) + 1:\n",
    "            self.div_ix += 1\n",
    "            \n",
    "    def med_game(self, result):\n",
    "        division = self.division_name()\n",
    "        \n",
    "        if result:\n",
    "            self.pips[division] += 1\n",
    "        elif self.pips[division] % 5 == 0:\n",
    "            pass\n",
    "        else:\n",
    "            self.pips[division] -= 1\n",
    "\n",
    "            \n",
    "        if self.current_tier() == self.div_tier_max(division) + 1:\n",
    "            self.div_ix += 1\n",
    "\n",
    "    def hard_game(self, result):\n",
    "        division = self.division_name()\n",
    "        \n",
    "        if result:\n",
    "            self.pips[division] += 1\n",
    "        elif self.pips[division] == 0:\n",
    "            pass\n",
    "        else:\n",
    "            self.pips[division] -= 1\n",
    "\n",
    "        if self.current_tier() == self.div_tier_max(division) + 1:\n",
    "            if self.division_name() != 'legendary':\n",
    "                self.div_ix += 1\n",
    "            else:\n",
    "                self.pips['legendary'] = 0\n",
    "                self.pips['legend_rolls'] += 1\n",
    "    def reached_target(self, target):\n",
    "        if self.pips[target] == self.div_tier_max(target) * 5 or self.pips['legend_rolls'] == 1:\n",
    "            return True"
   ]
  },
  {
   "cell_type": "code",
   "execution_count": 7,
   "metadata": {
    "collapsed": true
   },
   "outputs": [],
   "source": [
    "def sim_season(target='legendary', win_rate=0.5):\n",
    "    contestant = pvp_player(win_rate=win_rate)\n",
    "    game = 0\n",
    "    \n",
    "    while game < 1000:\n",
    "        result = contestant.play_game()\n",
    "        game += 1\n",
    "        contestant.update_game(result)\n",
    "        if contestant.reached_target(target):\n",
    "            break\n",
    "    return game, contestant.pips"
   ]
  },
  {
   "cell_type": "code",
   "execution_count": 8,
   "metadata": {
    "collapsed": true
   },
   "outputs": [],
   "source": [
    "from collections import defaultdict\n",
    "def get_average_target(target, rates, means):\n",
    "    measures = defaultdict(list)\n",
    "\n",
    "    for r in rates:\n",
    "        for x in range(2000):\n",
    "            count, aux = sim_season(target=target, win_rate=r)\n",
    "            measures[r].append(count)\n",
    "\n",
    "    version = 0\n",
    "    test_key = target\n",
    "    while test_key in means:\n",
    "        test_key = target + str(version)\n",
    "        version += 1\n",
    "\n",
    "    means[test_key] = {}\n",
    "    for r, values in measures.iteritems():\n",
    "        means[test_key][r] = np.mean(values), np.std(values)"
   ]
  },
  {
   "cell_type": "code",
   "execution_count": 9,
   "metadata": {
    "collapsed": true
   },
   "outputs": [],
   "source": [
    "means = {}"
   ]
  },
  {
   "cell_type": "code",
   "execution_count": 10,
   "metadata": {
    "collapsed": false
   },
   "outputs": [],
   "source": [
    "rates = [0.1, 0.25, 0.33, 0.4, 0.45, 0.48, 0.5, 0.52, 0.55, 0.6, 0.66, 0.75, 0.9, 1.0]\n",
    "\n",
    "for target in ['amber', 'emerald', 'sapphire', 'ruby', 'diamond', 'legendary']:\n",
    "    get_average_target(target, rates, means)"
   ]
  },
  {
   "cell_type": "code",
   "execution_count": 11,
   "metadata": {
    "collapsed": true
   },
   "outputs": [],
   "source": [
    "win_pct_org = defaultdict(list)\n",
    "for x in means:\n",
    "    for v in means[x]:\n",
    "        val = means[x][v]\n",
    "        win_pct_org[v].append( (x,val))\n",
    "win_pct_org = dict(win_pct_org)"
   ]
  },
  {
   "cell_type": "code",
   "execution_count": 12,
   "metadata": {
    "collapsed": false
   },
   "outputs": [
    {
     "name": "stdout",
     "output_type": "stream",
     "text": [
      "amber\n",
      "0.1 (1000.0, 0.0)\n",
      "0.25 (1000.0, 0.0)\n",
      "0.33 (1000.0, 0.0)\n",
      "0.4 (1000.0, 0.0)\n",
      "0.45 (1000.0, 0.0)\n",
      "0.48 (999.90300000000002, 4.3368872477848877)\n",
      "0.5 (999.95100000000002, 1.8040507199078102)\n",
      "0.52 (992.67700000000002, 34.780018271991402)\n",
      "0.55 (896.21100000000001, 121.00921650436366)\n",
      "0.6 (591.1155, 100.40846159437949)\n",
      "0.66 (403.99349999999998, 52.317066601157983)\n",
      "0.75 (278.40750000000003, 26.380019782972099)\n",
      "0.9 (183.602, 9.1450312191921945)\n",
      "1.0 (150.0, 0.0)\n",
      "diamond\n",
      "0.1 (1000.0, 0.0)\n",
      "0.25 (1000.0, 0.0)\n",
      "0.33 (1000.0, 0.0)\n",
      "0.4 (1000.0, 0.0)\n",
      "0.45 (1000.0, 0.0)\n",
      "0.48 (999.19550000000004, 13.014003217687755)\n",
      "0.5 (993.82899999999995, 34.805369686299613)\n",
      "0.52 (949.28599999999994, 104.39670111646166)\n",
      "0.55 (758.05050000000006, 163.91624370314855)\n",
      "0.6 (477.43450000000001, 86.628048054599518)\n",
      "0.66 (332.04199999999997, 46.041798791967231)\n",
      "0.75 (229.41399999999999, 23.372047492678107)\n",
      "0.9 (152.27799999999999, 8.4264889485478953)\n",
      "1.0 (125.0, 0.0)\n",
      "sapphire\n",
      "0.1 (1000.0, 0.0)\n",
      "0.25 (1000.0, 0.0)\n",
      "0.33 (989.65700000000004, 46.050769276962178)\n",
      "0.4 (693.68949999999995, 179.69323050618829)\n",
      "0.45 (435.9975, 112.25293980003366)\n",
      "0.48 (346.39150000000001, 89.408585872666563)\n",
      "0.5 (300.14999999999998, 72.501934456951005)\n",
      "0.52 (260.80500000000001, 59.984997916145694)\n",
      "0.55 (220.41399999999999, 47.695760859850004)\n",
      "0.6 (172.3835, 33.696400812994852)\n",
      "0.66 (134.59, 21.911661278871584)\n",
      "0.75 (101.21550000000001, 13.399703718739453)\n",
      "0.9 (71.673500000000004, 5.1925810296999666)\n",
      "1.0 (60.0, 0.0)\n",
      "legendary\n",
      "0.1 (1000.0, 0.0)\n",
      "0.25 (1000.0, 0.0)\n",
      "0.33 (1000.0, 0.0)\n",
      "0.4 (1000.0, 0.0)\n",
      "0.45 (1000.0, 0.0)\n",
      "0.48 (1000.0, 0.0)\n",
      "0.5 (999.42650000000003, 10.250199888295038)\n",
      "0.52 (993.11900000000003, 33.468012175807615)\n",
      "0.55 (897.07749999999999, 122.91187694340097)\n",
      "0.6 (587.49649999999997, 97.815964891984848)\n",
      "0.66 (404.93450000000001, 51.980729215258201)\n",
      "0.75 (277.91250000000002, 25.850142045064342)\n",
      "0.9 (183.58099999999999, 9.1186862540609344)\n",
      "1.0 (150.0, 0.0)\n",
      "emerald\n",
      "0.1 (1000.0, 0.0)\n",
      "0.25 (1000.0, 0.0)\n",
      "0.33 (1000.0, 0.0)\n",
      "0.4 (1000.0, 0.0)\n",
      "0.45 (1000.0, 0.0)\n",
      "0.48 (999.97149999999999, 1.2742400676481445)\n",
      "0.5 (999.29600000000005, 11.182145769037364)\n",
      "0.52 (991.29449999999997, 39.372030297535119)\n",
      "0.55 (902.62149999999997, 119.41816962987652)\n",
      "0.6 (591.55550000000005, 100.8946773608499)\n",
      "0.66 (403.97699999999998, 51.265558331105645)\n",
      "0.75 (278.58949999999999, 26.314558513302153)\n",
      "0.9 (183.32400000000001, 9.3872266404939833)\n",
      "1.0 (150.0, 0.0)\n",
      "ruby\n",
      "0.1 (1000.0, 0.0)\n",
      "0.25 (1000.0, 0.0)\n",
      "0.33 (1000.0, 0.0)\n",
      "0.4 (1000.0, 0.0)\n",
      "0.45 (996.81500000000005, 31.84286065980864)\n",
      "0.48 (954.36350000000004, 119.55074808527759)\n",
      "0.5 (846.05150000000003, 196.32343173383467)\n",
      "0.52 (682.87350000000004, 209.95451054395014)\n",
      "0.55 (476.34199999999998, 136.60317725441092)\n",
      "0.6 (309.87200000000001, 61.492687500222303)\n",
      "0.66 (225.376, 36.062620869814779)\n",
      "0.75 (160.06450000000001, 18.665458466107925)\n",
      "0.9 (108.74550000000001, 6.7319187272277725)\n",
      "1.0 (90.0, 0.0)\n"
     ]
    }
   ],
   "source": [
    "for x in means:\n",
    "    print(x)\n",
    "    for v in sorted(means[x].keys()):\n",
    "        if means[x][v][0] + 3*means[x][v][1] > 2000:\n",
    "            continue\n",
    "        else:\n",
    "            print(v, means[x][v])"
   ]
  },
  {
   "cell_type": "code",
   "execution_count": null,
   "metadata": {
    "collapsed": false
   },
   "outputs": [],
   "source": [
    "for v in sorted(win_pct_org.keys()):\n",
    "    print(v)\n",
    "    for x in win_pct_org[v]:\n",
    "        print(x)"
   ]
  },
  {
   "cell_type": "code",
   "execution_count": null,
   "metadata": {
    "collapsed": false
   },
   "outputs": [],
   "source": [
    "x = sorted(means['amber'].keys())\n",
    "seqs = []\n",
    "names = []\n",
    "for name in means:\n",
    "    names.append(name)\n",
    "    this_seq = []\n",
    "    for v in sorted(means[name].keys()):\n",
    "        this_seq.append(means[name][v][0])\n",
    "    seqs.append(this_seq)"
   ]
  },
  {
   "cell_type": "code",
   "execution_count": null,
   "metadata": {
    "collapsed": false
   },
   "outputs": [],
   "source": [
    "%pylab inline\n",
    "import matplotlib.pyplot as plt"
   ]
  },
  {
   "cell_type": "code",
   "execution_count": 186,
   "metadata": {
    "collapsed": false
   },
   "outputs": [
    {
     "data": {
      "text/plain": [
       "<matplotlib.legend.Legend at 0x7f3a677bfa50>"
      ]
     },
     "execution_count": 186,
     "metadata": {},
     "output_type": "execute_result"
    },
    {
     "data": {
      "image/png": "[encoded data removed]",
      "text/plain": [
       "<matplotlib.figure.Figure at 0x7f3a677bf1d0>"
      ]
     },
     "metadata": {},
     "output_type": "display_data"
    }
   ],
   "source": [
    "fig, ax = plt.subplots()\n",
    "colors = {'amber': 'y', 'emerald': 'g', 'sapphire': 'b', 'ruby': 'r', 'diamond': 'c', 'legendary': 'k'}\n",
    "\n",
    "ax.set_xlim([0.1, 1.0])\n",
    "ax.set_ylim([0,5000])\n",
    "for n, data in zip(names, seqs):\n",
    "    ax.plot(x, data, colors[n], label=n)\n",
    "#ax.plot(alphas, saved_test, 'g.--', label='Test')\n",
    "#ax.set_ylabel('Order Count')\n",
    "ax.legend(loc='best')\n",
    "\n",
    "\n",
    "\n",
    "\n"
   ]
  },
  {
   "cell_type": "code",
   "execution_count": null,
   "metadata": {
    "collapsed": true
   },
   "outputs": [],
   "source": []
  }
 ],
 "metadata": {
  "kernelspec": {
   "display_name": "Python 2",
   "language": "python",
   "name": "python2"
  },
  "language_info": {
   "codemirror_mode": {
    "name": "ipython",
    "version": 2
   },
   "file_extension": ".py",
   "mimetype": "text/x-python",
   "name": "python",
   "nbconvert_exporter": "python",
   "pygments_lexer": "ipython2",
   "version": "2.7.6"
  }
 },
 "nbformat": 4,
 "nbformat_minor": 0
}
