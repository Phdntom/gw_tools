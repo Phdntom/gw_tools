{
 "cells": [
  {
   "cell_type": "code",
   "execution_count": 1,
   "metadata": {
    "collapsed": true
   },
   "outputs": [],
   "source": [
    "from __future__ import division, print_function"
   ]
  },
  {
   "cell_type": "code",
   "execution_count": 2,
   "metadata": {
    "collapsed": true
   },
   "outputs": [],
   "source": [
    "import os\n",
    "import sys\n",
    "\n",
    "import json\n",
    "import datetime\n",
    "\n",
    "sys.path.insert(0,'/home/rapplegate/ds_notebooks/share_lib/')\n",
    "\n",
    "import hyper_context as context\n",
    "import pyspark\n",
    "from pyspark.sql.types import Row\n",
    "\n",
    "hdfs = context.hdfs_system"
   ]
  },
  {
   "cell_type": "code",
   "execution_count": 3,
   "metadata": {
    "collapsed": true
   },
   "outputs": [],
   "source": [
    "import pyspark.sql.functions as F"
   ]
  },
  {
   "cell_type": "code",
   "execution_count": 4,
   "metadata": {
    "collapsed": true
   },
   "outputs": [],
   "source": [
    "#sc.stop()"
   ]
  },
  {
   "cell_type": "code",
   "execution_count": 4,
   "metadata": {
    "collapsed": false
   },
   "outputs": [],
   "source": [
    "sc = context.load_spark_context('RSDS Parquet', 11915, csv_support=True, num_cores=16, memory='12gb')\n",
    "sqlContext = pyspark.SQLContext(sc)"
   ]
  },
  {
   "cell_type": "code",
   "execution_count": 5,
   "metadata": {
    "collapsed": false
   },
   "outputs": [],
   "source": [
    "data_src = os.path.join(hdfs, 'user/rapplegate/to_parquet/2015/08/')"
   ]
  },
  {
   "cell_type": "code",
   "execution_count": 6,
   "metadata": {
    "collapsed": false
   },
   "outputs": [],
   "source": [
    "data = sqlContext.read.parquet(data_src)"
   ]
  },
  {
   "cell_type": "code",
   "execution_count": 7,
   "metadata": {
    "collapsed": false
   },
   "outputs": [
    {
     "data": {
      "text/plain": [
       "3225331"
      ]
     },
     "execution_count": 7,
     "metadata": {},
     "output_type": "execute_result"
    }
   ],
   "source": [
    "data.count()"
   ]
  },
  {
   "cell_type": "code",
   "execution_count": 8,
   "metadata": {
    "collapsed": false
   },
   "outputs": [
    {
     "data": {
      "text/plain": [
       "StructType(List(StructField(page_type,StringType,true),StructField(timestamp,LongType,true),StructField(total_cents,LongType,true),StructField(user_token,StringType,true)))"
      ]
     },
     "execution_count": 8,
     "metadata": {},
     "output_type": "execute_result"
    }
   ],
   "source": [
    "data.schema"
   ]
  },
  {
   "cell_type": "code",
   "execution_count": 25,
   "metadata": {
    "collapsed": true
   },
   "outputs": [],
   "source": [
    "def data_row(row):\n",
    "    \n",
    "    date_time = datetime.datetime.fromtimestamp(row.timestamp / 1000.0)\n",
    "    date = date_time.date()\n",
    "    hour = date_time.hour\n",
    "    dollars = row.total_cents / 100.0\n",
    "    \n",
    "    return Row(DATE=date, HOUR=hour, DOLLARS=dollars)"
   ]
  },
  {
   "cell_type": "code",
   "execution_count": 26,
   "metadata": {
    "collapsed": false
   },
   "outputs": [],
   "source": [
    "f_transformed = data.map(data_row).toDF()"
   ]
  },
  {
   "cell_type": "code",
   "execution_count": null,
   "metadata": {
    "collapsed": false
   },
   "outputs": [],
   "source": [
    "f_transformed.first()"
   ]
  },
  {
   "cell_type": "code",
   "execution_count": 27,
   "metadata": {
    "collapsed": false
   },
   "outputs": [],
   "source": [
    "f_grouped = f_transformed\\\n",
    "    .groupBy('DATE')\\\n",
    "    .agg(\n",
    "        F.count('DOLLARS').alias('COUNT_ORDERS'),\n",
    "        F.sum('DOLLARS').alias('SUM_DOLLARS')\n",
    "    )"
   ]
  },
  {
   "cell_type": "code",
   "execution_count": null,
   "metadata": {
    "collapsed": true
   },
   "outputs": [],
   "source": []
  },
  {
   "cell_type": "code",
   "execution_count": 28,
   "metadata": {
    "collapsed": false
   },
   "outputs": [],
   "source": [
    "f_collected_date = f_grouped.map(lambda r: (r.DATE, r.COUNT_ORDERS, r.SUM_DOLLARS)).collect()"
   ]
  },
  {
   "cell_type": "code",
   "execution_count": 29,
   "metadata": {
    "collapsed": false
   },
   "outputs": [
    {
     "data": {
      "text/plain": [
       "[(datetime.date(2015, 7, 31), 9671, 1607277.5800000003),\n",
       " (datetime.date(2015, 8, 1), 20832, 3329044.35),\n",
       " (datetime.date(2015, 8, 2), 15922, 4672600.380000001),\n",
       " (datetime.date(2015, 8, 3), 128070, 26773472.960000005),\n",
       " (datetime.date(2015, 8, 4), 155611, 32720995.490000013),\n",
       " (datetime.date(2015, 8, 5), 154899, 31680061.45),\n",
       " (datetime.date(2015, 8, 6), 143983, 29476258.279999997),\n",
       " (datetime.date(2015, 8, 7), 113958, 23699540.700000007),\n",
       " (datetime.date(2015, 8, 8), 27319, 43351965.32000003),\n",
       " (datetime.date(2015, 8, 9), 21299, 3609782.1300000013),\n",
       " (datetime.date(2015, 8, 10), 138379, 27406373.290000007),\n",
       " (datetime.date(2015, 8, 11), 153786, 30763211.24000002),\n",
       " (datetime.date(2015, 8, 12), 148243, 30028538.300000027),\n",
       " (datetime.date(2015, 8, 13), 140942, 28364786.980000023),\n",
       " (datetime.date(2015, 8, 14), 115226, 23317813.79000001),\n",
       " (datetime.date(2015, 8, 15), 24433, 3815078.2800000017),\n",
       " (datetime.date(2015, 8, 16), 23121, 4150885.13),\n",
       " (datetime.date(2015, 8, 17), 141863, 28023645.879999995),\n",
       " (datetime.date(2015, 8, 18), 154570, 30613755.56000002),\n",
       " (datetime.date(2015, 8, 19), 155785, 31241586.320000008),\n",
       " (datetime.date(2015, 8, 20), 145897, 29129762.620000005),\n",
       " (datetime.date(2015, 8, 21), 119392, 23813116.7),\n",
       " (datetime.date(2015, 8, 22), 21872, 3783846.78),\n",
       " (datetime.date(2015, 8, 23), 21673, 3228026.450000001),\n",
       " (datetime.date(2015, 8, 24), 144993, 27857543.869999997),\n",
       " (datetime.date(2015, 8, 25), 155067, 30218201.010000005),\n",
       " (datetime.date(2015, 8, 26), 156494, 30743160.48000001),\n",
       " (datetime.date(2015, 8, 27), 146698, 29032780.83000002),\n",
       " (datetime.date(2015, 8, 28), 119486, 23799253.30000001),\n",
       " (datetime.date(2015, 8, 29), 23006, 3644692.63),\n",
       " (datetime.date(2015, 8, 30), 46257, 5177676.449999999),\n",
       " (datetime.date(2015, 8, 31), 136584, 26629146.860000025)]"
      ]
     },
     "execution_count": 29,
     "metadata": {},
     "output_type": "execute_result"
    }
   ],
   "source": [
    "f_collected_date"
   ]
  },
  {
   "cell_type": "code",
   "execution_count": 9,
   "metadata": {
    "collapsed": false
   },
   "outputs": [
    {
     "data": {
      "text/plain": [
       "'hdfs://10.1.10.180/rs-ds/parquet/2015/08/*'"
      ]
     },
     "execution_count": 9,
     "metadata": {},
     "output_type": "execute_result"
    }
   ],
   "source": [
    "# RSDS\n",
    "rsds_src = os.path.join(hdfs, 'rs-ds/parquet/2015/08/*')\n",
    "rsds_src"
   ]
  },
  {
   "cell_type": "code",
   "execution_count": 10,
   "metadata": {
    "collapsed": true
   },
   "outputs": [],
   "source": [
    "rsds = sqlContext.read.parquet(rsds_src)"
   ]
  },
  {
   "cell_type": "code",
   "execution_count": 11,
   "metadata": {
    "collapsed": false
   },
   "outputs": [
    {
     "data": {
      "text/plain": [
       "StructType(List(StructField(email,StringType,true),StructField(session_id,StringType,true),StructField(merchant_id,StringType,true),StructField(site_cid,StringType,true),StructField(treatment,StringType,true),StructField(page_type,StringType,true),StructField(order_id,StringType,true),StructField(timestamp,StringType,true),StructField(event_type,StringType,true),StructField(sku,StringType,true),StructField(name,StringType,true),StructField(quantity,StringType,true),StructField(price_cents,StringType,true)))"
      ]
     },
     "execution_count": 11,
     "metadata": {},
     "output_type": "execute_result"
    }
   ],
   "source": [
    "rsds.schema"
   ]
  },
  {
   "cell_type": "code",
   "execution_count": 12,
   "metadata": {
    "collapsed": false
   },
   "outputs": [
    {
     "data": {
      "text/plain": [
       "485854188"
      ]
     },
     "execution_count": 12,
     "metadata": {},
     "output_type": "execute_result"
    }
   ],
   "source": [
    "rsds.count()"
   ]
  },
  {
   "cell_type": "code",
   "execution_count": 13,
   "metadata": {
    "collapsed": false
   },
   "outputs": [
    {
     "data": {
      "text/plain": [
       "Row(email=u'famouim@gmail.com', session_id=u'8fc9639f-5e04-4a76-8b4f-e716384b78c9_1438446493009', merchant_id=u'a418e208-fe80-3827-ae20-0e498db95eed', site_cid=u'fea6e45a-b7f6-4264-9512-dda569c0d689', treatment=u'denied', page_type=u'CLASS', order_id=u'', timestamp=u'2015-08-01 16:48:59.042', event_type=u'view', sku=u'371780', name=u'Hilroy ? Journal mode carr? ? motif g?om?trique, 6 3/4 po x 6 3/4 po, 208 pages', quantity=u'1', price_cents=u'97')"
      ]
     },
     "execution_count": 13,
     "metadata": {},
     "output_type": "execute_result"
    }
   ],
   "source": [
    "rsds.first()"
   ]
  },
  {
   "cell_type": "code",
   "execution_count": 14,
   "metadata": {
    "collapsed": true
   },
   "outputs": [],
   "source": [
    "def rsds_row(row):\n",
    "    \n",
    "    tmp = row.timestamp.split('.')[0]\n",
    "    dt = datetime.datetime.strptime(tmp, '%Y-%m-%d %H:%M:%S')\n",
    "    #date_time = datetime.datetime.strptime(row.timestamp, '%Y-%m-%d %H:%M:%S.%f')\n",
    "    date = dt.date()\n",
    "    hour = dt.hour\n",
    "    order_id = row.order_id\n",
    "    try:\n",
    "        quantity = int(row.quantity)\n",
    "    except:\n",
    "        return None\n",
    "    \n",
    "    try:\n",
    "        dollars = float(row.price_cents) / 100.0\n",
    "    except:\n",
    "        return None\n",
    "\n",
    "    return Row(DATE=date, ORDER_ID=order_id, DOLLARS=dollars*quantity)"
   ]
  },
  {
   "cell_type": "code",
   "execution_count": 15,
   "metadata": {
    "collapsed": false
   },
   "outputs": [],
   "source": [
    "rs_transformed = rsds\\\n",
    "    .filter(rsds['event_type'] == 'purchase')\\\n",
    "    .map(rsds_row)\\\n",
    "    .filter(lambda x: x is not None)\\\n",
    "    .toDF()"
   ]
  },
  {
   "cell_type": "code",
   "execution_count": 16,
   "metadata": {
    "collapsed": false
   },
   "outputs": [
    {
     "data": {
      "text/plain": [
       "8593270"
      ]
     },
     "execution_count": 16,
     "metadata": {},
     "output_type": "execute_result"
    }
   ],
   "source": [
    "# debugging weird values in 'quantity' and 'price_cents' fields\n",
    "rs_transformed.count()"
   ]
  },
  {
   "cell_type": "code",
   "execution_count": 17,
   "metadata": {
    "collapsed": true
   },
   "outputs": [],
   "source": [
    "rs_order_grouped = rs_transformed\\\n",
    "    .groupBy('ORDER_ID')\\\n",
    "    .agg(\n",
    "        F.count('DOLLARS').alias('COUNT_ITEMS_IN_ORDER'),\n",
    "        F.min('DATE').alias('START_DATE'),\n",
    "        F.max('DATE').alias('END_DATE'),\n",
    "        F.sum('DOLLARS').alias('TOTAL_DOLLARS_IN_ORDER')\n",
    "    )"
   ]
  },
  {
   "cell_type": "code",
   "execution_count": 32,
   "metadata": {
    "collapsed": false
   },
   "outputs": [
    {
     "data": {
      "text/plain": [
       "2598905"
      ]
     },
     "execution_count": 32,
     "metadata": {},
     "output_type": "execute_result"
    }
   ],
   "source": [
    "rs_order_grouped.count()"
   ]
  },
  {
   "cell_type": "code",
   "execution_count": 33,
   "metadata": {
    "collapsed": false
   },
   "outputs": [
    {
     "data": {
      "text/plain": [
       "0.8057793138130629"
      ]
     },
     "execution_count": 33,
     "metadata": {},
     "output_type": "execute_result"
    }
   ],
   "source": [
    "2598905 / 3225331"
   ]
  },
  {
   "cell_type": "code",
   "execution_count": 21,
   "metadata": {
    "collapsed": false
   },
   "outputs": [
    {
     "data": {
      "text/plain": [
       "Row(ORDER_ID=u'9726886754', COUNT_ITEMS_IN_ORDER=1, START_DATE=datetime.date(2015, 8, 8), END_DATE=datetime.date(2015, 8, 8), TOTAL_DOLLARS_IN_ORDER=29.950000000000003)"
      ]
     },
     "execution_count": 21,
     "metadata": {},
     "output_type": "execute_result"
    }
   ],
   "source": [
    "rs_order_grouped.first()"
   ]
  },
  {
   "cell_type": "code",
   "execution_count": 23,
   "metadata": {
    "collapsed": false
   },
   "outputs": [],
   "source": [
    "order_method = rs_order_grouped\\\n",
    "    .groupBy('START_DATE')\\\n",
    "    .agg(\n",
    "        F.sum('TOTAL_DOLLARS_IN_ORDER').alias('ALL_DOLLARS'),\n",
    "        F.count('ORDER_ID').alias('count_orders'),\n",
    "        F.countDistinct('ORDER_ID').alias('count_dis_orders')\n",
    "    )"
   ]
  },
  {
   "cell_type": "code",
   "execution_count": 24,
   "metadata": {
    "collapsed": true
   },
   "outputs": [],
   "source": [
    "order_collected = order_method.map(lambda r: (r[0], r[1], r[2], r[3])).collect()"
   ]
  },
  {
   "cell_type": "code",
   "execution_count": 25,
   "metadata": {
    "collapsed": false
   },
   "outputs": [],
   "source": [
    "rs_grouped = rs_transformed\\\n",
    "    .groupBy('DATE')\\\n",
    "    .agg(\n",
    "        F.countDistinct('ORDER_ID').alias('COUNT_ORDERS'),\n",
    "        F.count('ORDER_ID').alias('COUNT_PRODUCTS'),\n",
    "        F.sum('DOLLARS').alias('SUM_DOLLARS')\n",
    "    )"
   ]
  },
  {
   "cell_type": "code",
   "execution_count": 26,
   "metadata": {
    "collapsed": false
   },
   "outputs": [],
   "source": [
    "rs_collected_date = rs_grouped.map(lambda r: (r.DATE, r.COUNT_ORDERS, r.SUM_DOLLARS)).collect()"
   ]
  },
  {
   "cell_type": "code",
   "execution_count": 27,
   "metadata": {
    "collapsed": false
   },
   "outputs": [
    {
     "data": {
      "text/plain": [
       "[((datetime.date(2015, 8, 1), 10537, 1452633.9600000083),\n",
       "  (datetime.datetime(2015, 8, 1, 0, 0), 1452633.9599999993, 10537, 10537)),\n",
       " ((datetime.date(2015, 8, 2), 7334, 1064942.9300000074),\n",
       "  (datetime.datetime(2015, 8, 2, 0, 0), 1064942.9299999995, 7334, 7334)),\n",
       " ((datetime.date(2015, 8, 3), 72406, 11027106.62999894),\n",
       "  (datetime.datetime(2015, 8, 3, 0, 0), 11027214.819999998, 72406, 72406)),\n",
       " ((datetime.date(2015, 8, 4), 128394, 20008069.789997913),\n",
       "  (datetime.datetime(2015, 8, 4, 0, 0), 20008069.790000018, 128394, 128394)),\n",
       " ((datetime.date(2015, 8, 5), 127958, 20054457.459997945),\n",
       "  (datetime.datetime(2015, 8, 5, 0, 0), 20054457.460000012, 127958, 127958)),\n",
       " ((datetime.date(2015, 8, 6), 120097, 18875878.129998084),\n",
       "  (datetime.datetime(2015, 8, 6, 0, 0), 18875769.940000024, 120096, 120096)),\n",
       " ((datetime.date(2015, 8, 7), 94471, 14906131.479998238),\n",
       "  (datetime.datetime(2015, 8, 7, 0, 0), 14906131.480000004, 94471, 94471)),\n",
       " ((datetime.date(2015, 8, 8), 17267, 2603207.8699999694),\n",
       "  (datetime.datetime(2015, 8, 8, 0, 0), 2603207.8700000006, 17267, 17267)),\n",
       " ((datetime.date(2015, 8, 9), 16567, 2523223.949999978),\n",
       "  (datetime.datetime(2015, 8, 9, 0, 0), 2523223.9499999965, 16567, 16567)),\n",
       " ((datetime.date(2015, 8, 10), 111753, 16979456.83999822),\n",
       "  (datetime.datetime(2015, 8, 10, 0, 0), 16979456.840000022, 111753, 111753)),\n",
       " ((datetime.date(2015, 8, 11), 126662, 19455887.209998034),\n",
       "  (datetime.datetime(2015, 8, 11, 0, 0), 19455887.210000012, 126662, 126662)),\n",
       " ((datetime.date(2015, 8, 12), 122286, 18810207.059998125),\n",
       "  (datetime.datetime(2015, 8, 12, 0, 0), 18810207.060000025, 122286, 122286)),\n",
       " ((datetime.date(2015, 8, 13), 114366, 17529996.409998287),\n",
       "  (datetime.datetime(2015, 8, 13, 0, 0), 17529996.41000001, 114366, 114366)),\n",
       " ((datetime.date(2015, 8, 14), 95701, 14792980.519998243),\n",
       "  (datetime.datetime(2015, 8, 14, 0, 0), 14793077.759999996, 95701, 95701)),\n",
       " ((datetime.date(2015, 8, 15), 20153, 2790475.1499999505),\n",
       "  (datetime.datetime(2015, 8, 15, 0, 0), 2790377.9099999974, 20152, 20152)),\n",
       " ((datetime.date(2015, 8, 16), 18094, 2918729.459999953),\n",
       "  (datetime.datetime(2015, 8, 16, 0, 0), 2918729.4599999995, 18094, 18094)),\n",
       " ((datetime.date(2015, 8, 17), 113150, 17441039.689998318),\n",
       "  (datetime.datetime(2015, 8, 17, 0, 0), 17441469.630000006, 113150, 113150)),\n",
       " ((datetime.date(2015, 8, 18), 127819, 19506116.479998138),\n",
       "  (datetime.datetime(2015, 8, 18, 0, 0), 19505891.91000004, 127817, 127817)),\n",
       " ((datetime.date(2015, 8, 19), 127536, 19517918.389998157),\n",
       "  (datetime.datetime(2015, 8, 19, 0, 0), 19517713.020000014, 127535, 127535)),\n",
       " ((datetime.date(2015, 8, 20), 120104, 18460429.449998204),\n",
       "  (datetime.datetime(2015, 8, 20, 0, 0), 18460552.21000004, 120104, 120104)),\n",
       " ((datetime.date(2015, 8, 21), 99485, 15331743.379998203),\n",
       "  (datetime.datetime(2015, 8, 21, 0, 0), 15331743.380000003, 99485, 99485)),\n",
       " ((datetime.date(2015, 8, 22), 18815, 2877253.7499999516),\n",
       "  (datetime.datetime(2015, 8, 22, 0, 0), 2877253.750000001, 18815, 18815)),\n",
       " ((datetime.date(2015, 8, 23), 16595, 2360602.489999977),\n",
       "  (datetime.datetime(2015, 8, 23, 0, 0), 2360532.98, 16594, 16594)),\n",
       " ((datetime.date(2015, 8, 24), 116607, 17299458.499998216),\n",
       "  (datetime.datetime(2015, 8, 24, 0, 0), 17299859.550000004, 116607, 116607)),\n",
       " ((datetime.date(2015, 8, 25), 127886, 19033506.909998104),\n",
       "  (datetime.datetime(2015, 8, 25, 0, 0), 19033105.860000003, 127885, 127885)),\n",
       " ((datetime.date(2015, 8, 26), 128116, 19217066.729998026),\n",
       "  (datetime.datetime(2015, 8, 26, 0, 0), 19217066.730000023, 128116, 128116)),\n",
       " ((datetime.date(2015, 8, 27), 120691, 18061746.879998118),\n",
       "  (datetime.datetime(2015, 8, 27, 0, 0), 18061818.39000002, 120690, 120690)),\n",
       " ((datetime.date(2015, 8, 28), 99608, 15171328.039998436),\n",
       "  (datetime.datetime(2015, 8, 28, 0, 0), 15171203.280000001, 99607, 99607)),\n",
       " ((datetime.date(2015, 8, 29), 18867, 2572805.36999997),\n",
       "  (datetime.datetime(2015, 8, 29, 0, 0), 2572873.9899999974, 18867, 18867)),\n",
       " ((datetime.date(2015, 8, 30), 33062, 3572937.3899998455),\n",
       "  (datetime.datetime(2015, 8, 30, 0, 0), 3572868.7699999996, 33061, 33061)),\n",
       " ((datetime.date(2015, 8, 31), 125658, 18346171.24999817),\n",
       "  (datetime.datetime(2015, 8, 31, 0, 0), 18346171.250000015, 125658, 125658)),\n",
       " ((datetime.date(2015, 9, 1), 870, 117366.29999999987),\n",
       "  (datetime.datetime(2015, 9, 1, 0, 0), 117366.30000000002, 870, 870))]"
      ]
     },
     "execution_count": 27,
     "metadata": {},
     "output_type": "execute_result"
    }
   ],
   "source": [
    "zip(rs_collected_date, order_collected)"
   ]
  },
  {
   "cell_type": "code",
   "execution_count": 31,
   "metadata": {
    "collapsed": false
   },
   "outputs": [],
   "source": [
    "outf = '/home/rapplegate/data/rsds_data_validate/rsds_order_counts.txt'\n",
    "with open(outf, 'wb') as fobj:\n",
    "    x = map(lambda x: datetime.datetime.strftime(x[0], '%Y-%m-%d'), rs_collected_date)\n",
    "    y = map(lambda x: str(x[1]), rs_collected_date)\n",
    "    fobj.write( '\\n'.join( w + '\\t' + v for w, v in zip(x,y)))"
   ]
  },
  {
   "cell_type": "code",
   "execution_count": 57,
   "metadata": {
    "collapsed": false
   },
   "outputs": [],
   "source": [
    "xf = []\n",
    "y1f = []\n",
    "y2f = []\n",
    "for point in f_collected_date:\n",
    "    date = point[0]\n",
    "    xf.append(date)\n",
    "    y1f.append(int(point[1]))\n",
    "    y2f.append(float(point[2]))"
   ]
  },
  {
   "cell_type": "code",
   "execution_count": 58,
   "metadata": {
    "collapsed": true
   },
   "outputs": [],
   "source": [
    "xr = []\n",
    "y1r = []\n",
    "y2r = []\n",
    "for point in rs_collected_date:\n",
    "    date = point[0]\n",
    "    xr.append(date)\n",
    "    y1r.append(int(point[1]))\n",
    "    y2r.append(float(point[2]))"
   ]
  },
  {
   "cell_type": "code",
   "execution_count": 59,
   "metadata": {
    "collapsed": false
   },
   "outputs": [
    {
     "name": "stdout",
     "output_type": "stream",
     "text": [
      "Populating the interactive namespace from numpy and matplotlib\n"
     ]
    }
   ],
   "source": [
    "%pylab inline\n",
    "import matplotlib.pyplot as plt\n",
    "from matplotlib.dates import date2num\n",
    "import matplotlib.dates as mdates"
   ]
  },
  {
   "cell_type": "code",
   "execution_count": 60,
   "metadata": {
    "collapsed": false
   },
   "outputs": [
    {
     "data": {
      "image/png": "[encoded data removed]",
      "text/plain": [
       "<matplotlib.figure.Figure at 0x7f739aa9df90>"
      ]
     },
     "metadata": {},
     "output_type": "display_data"
    }
   ],
   "source": [
    "fig, ax = plt.subplots()\n",
    "fig.autofmt_xdate()\n",
    "\n",
    "#ax.set_xlim([datetime.date(2015, 8, 1), datetime.date(2015, 9, 1)])\n",
    "fig.gca().xaxis.set_major_formatter(mdates.DateFormatter('%Y-%m-%d'))\n",
    "fig.gca().xaxis.set_major_locator(mdates.WeekdayLocator(interval=1))\n",
    "ax.plot(xf, y1f, 'b.-', label='data')\n",
    "ax.plot(xr, y1r, 'g.--', label='RSDS')\n",
    "ax.set_ylabel('Order Count')\n",
    "ax.legend(loc='best')\n",
    "\n",
    "fig.savefig('pdfs/data_rsds_2015-08-orders_.pdf')"
   ]
  },
  {
   "cell_type": "code",
   "execution_count": 61,
   "metadata": {
    "collapsed": false
   },
   "outputs": [
    {
     "data": {
      "image/png": "[encoded data removed]",
      "text/plain": [
       "<matplotlib.figure.Figure at 0x7f739a783050>"
      ]
     },
     "metadata": {},
     "output_type": "display_data"
    }
   ],
   "source": [
    "fig, ax = plt.subplots()\n",
    "fig.autofmt_xdate()\n",
    "\n",
    "ax.set_xlim([datetime.date(2015, 8, 1), datetime.date(2015, 9, 1)])\n",
    "fig.gca().xaxis.set_major_formatter(mdates.DateFormatter('%Y-%m-%d'))\n",
    "fig.gca().xaxis.set_major_locator(mdates.WeekdayLocator(interval=1))\n",
    "ax.plot(xf, y2f, 'b.-', label='data')\n",
    "ax.plot(xr, y2r, 'g.--', label='RSDS')\n",
    "ax.set_ylabel('Dollars')\n",
    "ax.legend(loc='best')\n",
    "fig.savefig('pdfs/data_rsds_2015-08_dollars_.pdf')"
   ]
  },
  {
   "cell_type": "code",
   "execution_count": null,
   "metadata": {
    "collapsed": false
   },
   "outputs": [],
   "source": [
    "f_collected"
   ]
  },
  {
   "cell_type": "code",
   "execution_count": null,
   "metadata": {
    "collapsed": false
   },
   "outputs": [],
   "source": [
    "rs_collected"
   ]
  },
  {
   "cell_type": "code",
   "execution_count": null,
   "metadata": {
    "collapsed": false
   },
   "outputs": [],
   "source": [
    "fig, ax = plt.subplots()\n",
    "#fig.autofmt_xdate()\n",
    "\n",
    "ax.set_xlim([0, 24])\n",
    "#fig.gca().xaxis.set_major_formatter(mdates.DateFormatter('%Y-%m-%d'))\n",
    "#fig.gca().xaxis.set_major_locator(mdates.WeekdayLocator(interval=1))\n",
    "ax.plot(xf, y1f, 'b.-', label='data')\n",
    "ax.plot(xr, y1r, 'g.--', label='RSDS')\n",
    "ax.set_ylabel('Order Count')\n",
    "ax.legend(loc='best')\n",
    "\n",
    "fig.savefig('pdfs/data_rsds_2015-09-orders_hourly.pdf')"
   ]
  },
  {
   "cell_type": "code",
   "execution_count": null,
   "metadata": {
    "collapsed": false
   },
   "outputs": [],
   "source": [
    "fig, ax = plt.subplots()\n",
    "#fig.autofmt_xdate()\n",
    "\n",
    "ax.set_xlim([0, 24])\n",
    "#fig.gca().xaxis.set_major_formatter(mdates.DateFormatter('%Y-%m-%d'))\n",
    "#fig.gca().xaxis.set_major_locator(mdates.WeekdayLocator(interval=1))\n",
    "ax.plot(xf, y2f, 'b.-', label='data')\n",
    "ax.plot(xr, y2r, 'g.--', label='RSDS')\n",
    "ax.set_ylabel('Order Count')\n",
    "ax.legend(loc='best')\n",
    "\n",
    "fig.savefig('pdfs/data_rsds_2015-09-orders_hourly.pdf')"
   ]
  },
  {
   "cell_type": "code",
   "execution_count": null,
   "metadata": {
    "collapsed": true
   },
   "outputs": [],
   "source": []
  },
  {
   "cell_type": "code",
   "execution_count": null,
   "metadata": {
    "collapsed": true
   },
   "outputs": [],
   "source": []
  },
  {
   "cell_type": "code",
   "execution_count": null,
   "metadata": {
    "collapsed": true
   },
   "outputs": [],
   "source": []
  },
  {
   "cell_type": "code",
   "execution_count": null,
   "metadata": {
    "collapsed": true
   },
   "outputs": [],
   "source": []
  },
  {
   "cell_type": "code",
   "execution_count": null,
   "metadata": {
    "collapsed": true
   },
   "outputs": [],
   "source": []
  },
  {
   "cell_type": "code",
   "execution_count": null,
   "metadata": {
    "collapsed": true
   },
   "outputs": [],
   "source": []
  },
  {
   "cell_type": "code",
   "execution_count": null,
   "metadata": {
    "collapsed": true
   },
   "outputs": [],
   "source": []
  },
  {
   "cell_type": "code",
   "execution_count": null,
   "metadata": {
    "collapsed": true
   },
   "outputs": [],
   "source": []
  }
 ],
 "metadata": {
  "kernelspec": {
   "display_name": "Python 2",
   "language": "python",
   "name": "python2"
  },
  "language_info": {
   "codemirror_mode": {
    "name": "ipython",
    "version": 2
   },
   "file_extension": ".py",
   "mimetype": "text/x-python",
   "name": "python",
   "nbconvert_exporter": "python",
   "pygments_lexer": "ipython2",
   "version": "2.7.6"
  }
 },
 "nbformat": 4,
 "nbformat_minor": 0
}
