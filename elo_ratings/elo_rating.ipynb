{
 "cells": [
  {
   "cell_type": "code",
   "execution_count": 1,
   "metadata": {
    "collapsed": true
   },
   "outputs": [],
   "source": [
    "from __future__ import division, print_function"
   ]
  },
  {
   "cell_type": "code",
   "execution_count": 2,
   "metadata": {
    "collapsed": true
   },
   "outputs": [],
   "source": [
    "import numpy as np\n",
    "import cPickle as pickle"
   ]
  },
  {
   "cell_type": "code",
   "execution_count": 5,
   "metadata": {
    "collapsed": false
   },
   "outputs": [
    {
     "data": {
      "text/plain": [
       "('thief', 'asura', 'male')"
      ]
     },
     "execution_count": 5,
     "metadata": {},
     "output_type": "execute_result"
    }
   ],
   "source": [
    "professions = [\n",
    "    'guardian', \n",
    "    'warrior',\n",
    "    'revenant',\n",
    "    'thief',\n",
    "    'ranger',\n",
    "    'engineer',\n",
    "    'elementalist',\n",
    "    'necromancer',\n",
    "    'mesmer'  \n",
    "]\n",
    "races = [\n",
    "    'asura',\n",
    "    'sylvari',\n",
    "    'human',\n",
    "    'charr',\n",
    "    'norn'\n",
    "]\n",
    "\n",
    "genders = [\n",
    "    'male',\n",
    "    'female'\n",
    "]\n",
    "\n",
    "def prof():\n",
    "    return np.random.choice(professions)\n",
    "\n",
    "def race(): \n",
    "    return np.random.choice(races)\n",
    "\n",
    "def gender():\n",
    "    return np.random.choice(genders)\n",
    "\n",
    "prof(), race(), gender()"
   ]
  },
  {
   "cell_type": "code",
   "execution_count": 6,
   "metadata": {
    "collapsed": false
   },
   "outputs": [
    {
     "data": {
      "text/plain": [
       "{}"
      ]
     },
     "execution_count": 6,
     "metadata": {},
     "output_type": "execute_result"
    }
   ],
   "source": [
    "# fresh data write\n",
    "#score_data = {}\n",
    "data_loc = '/Users/appry001/Projects/gw_tools/elo_ratings/elo_saved_ratings.pkl'\n",
    "#with open(data_loc, 'wb') as fobj:\n",
    "#    fobj.write(pickle.dumps(score_data))\n",
    "    \n",
    "with open(data_loc, 'rb') as fobj:\n",
    "    score_data = pickle.load(fobj)\n",
    "score_data"
   ]
  },
  {
   "cell_type": "code",
   "execution_count": 8,
   "metadata": {
    "collapsed": false
   },
   "outputs": [
    {
     "name": "stdout",
     "output_type": "stream",
     "text": [
      "('mesmer', 'human', 'male') 1400\n",
      "('engineer', 'sylvari', 'female') 1400\n"
     ]
    }
   ],
   "source": [
    "def trial(score_data):\n",
    "    \n",
    "    character1 = prof(), race(), gender()\n",
    "    character2 = prof(), race(), gender()\n",
    "    \n",
    "    rating1 = score_data.get(character1, 1400)\n",
    "    rating2 = score_data.get(character2, 1400)\n",
    "    \n",
    "    print(character1, rating1)\n",
    "    \n",
    "    print(character2, rating2)\n",
    "\n",
    "trial(score_data)\n",
    "    \n",
    "    "
   ]
  },
  {
   "cell_type": "code",
   "execution_count": null,
   "metadata": {
    "collapsed": true
   },
   "outputs": [],
   "source": []
  }
 ],
 "metadata": {
  "kernelspec": {
   "display_name": "Python 2",
   "language": "python",
   "name": "python2"
  },
  "language_info": {
   "codemirror_mode": {
    "name": "ipython",
    "version": 2
   },
   "file_extension": ".py",
   "mimetype": "text/x-python",
   "name": "python",
   "nbconvert_exporter": "python",
   "pygments_lexer": "ipython2",
   "version": "2.7.10"
  }
 },
 "nbformat": 4,
 "nbformat_minor": 0
}
