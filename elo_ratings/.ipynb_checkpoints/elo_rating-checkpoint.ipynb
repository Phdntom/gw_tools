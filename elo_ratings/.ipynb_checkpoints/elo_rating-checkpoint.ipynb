{
 "cells": [
  {
   "cell_type": "code",
   "execution_count": 1,
   "metadata": {
    "collapsed": true
   },
   "outputs": [],
   "source": [
    "from __future__ import division, print_function"
   ]
  },
  {
   "cell_type": "code",
   "execution_count": 2,
   "metadata": {
    "collapsed": true
   },
   "outputs": [],
   "source": [
    "import numpy as np\n",
    "import cPickle as pickle"
   ]
  },
  {
   "cell_type": "code",
   "execution_count": 4,
   "metadata": {
    "collapsed": false
   },
   "outputs": [],
   "source": [
    "professions = [\n",
    "    'guardian', \n",
    "    'warrior',\n",
    "    'revenant',\n",
    "    'thief',\n",
    "    'ranger',\n",
    "    'engineer',\n",
    "    'elementalist',\n",
    "    'necromancer',\n",
    "    'mesmer'  \n",
    "]\n",
    "races = [\n",
    "    'asura',\n",
    "    'sylvari',\n",
    "    'human',\n",
    "    'charr',\n",
    "    'norn'\n",
    "]\n",
    "\n",
    "gender = [\n",
    "    'male',\n",
    "    'female'\n",
    "]\n",
    "\n",
    "def prof():\n",
    "    return np.random.choice(professions)\n",
    "\n",
    "def race(): \n",
    "    return np.random.choice(races)\n",
    "\n",
    "def gender():\n",
    "    return np.random.choice(gender)"
   ]
  },
  {
   "cell_type": "code",
   "execution_count": 8,
   "metadata": {
    "collapsed": false
   },
   "outputs": [],
   "source": [
    "# fresh data write\n",
    "score_data = {}\n",
    "data_loc = '/Users/appry001/Projects/gw_tools/elo_ratings/elo_saved_ratings.pkl'\n",
    "with open(data_loc, 'wb') as fobj:\n",
    "    fobj.write(pickle.dumps(score_data))\n",
    "    \n",
    "with open(data_loc, 'rb') as fobj:\n",
    "    read_data = pickle.load(fobj)"
   ]
  },
  {
   "cell_type": "code",
   "execution_count": 10,
   "metadata": {
    "collapsed": true
   },
   "outputs": [],
   "source": []
  },
  {
   "cell_type": "code",
   "execution_count": 4,
   "metadata": {
    "collapsed": true
   },
   "outputs": [],
   "source": []
  },
  {
   "cell_type": "code",
   "execution_count": null,
   "metadata": {
    "collapsed": true
   },
   "outputs": [],
   "source": []
  },
  {
   "cell_type": "code",
   "execution_count": null,
   "metadata": {
    "collapsed": true
   },
   "outputs": [],
   "source": [
    "def trial(scoring_data):\n",
    "    \n",
    "    character1 = prof(), race(), gender()\n",
    "    character2 = prof(), race(), gender()\n",
    "    \n",
    "    rating1 = scoring_data\n",
    "    \n",
    "    "
   ]
  },
  {
   "cell_type": "code",
   "execution_count": null,
   "metadata": {
    "collapsed": true
   },
   "outputs": [],
   "source": []
  }
 ],
 "metadata": {
  "kernelspec": {
   "display_name": "Python 2",
   "language": "python",
   "name": "python2"
  },
  "language_info": {
   "codemirror_mode": {
    "name": "ipython",
    "version": 2
   },
   "file_extension": ".py",
   "mimetype": "text/x-python",
   "name": "python",
   "nbconvert_exporter": "python",
   "pygments_lexer": "ipython2",
   "version": "2.7.10"
  }
 },
 "nbformat": 4,
 "nbformat_minor": 0
}
