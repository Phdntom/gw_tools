{
 "cells": [
  {
   "cell_type": "code",
   "execution_count": 2,
   "metadata": {
    "collapsed": true
   },
   "outputs": [],
   "source": [
    "from __future__ import division, print_function"
   ]
  },
  {
   "cell_type": "code",
   "execution_count": 4,
   "metadata": {
    "collapsed": true
   },
   "outputs": [],
   "source": [
    "import numpy as np"
   ]
  },
  {
   "cell_type": "code",
   "execution_count": 1,
   "metadata": {
    "collapsed": true
   },
   "outputs": [],
   "source": [
    "# number of unique weapons\n",
    "N = 19"
   ]
  },
  {
   "cell_type": "code",
   "execution_count": 5,
   "metadata": {
    "collapsed": false
   },
   "outputs": [
    {
     "data": {
      "text/plain": [
       "0.5479804460266374"
      ]
     },
     "execution_count": 5,
     "metadata": {},
     "output_type": "execute_result"
    }
   ],
   "source": [
    "np.random.uniform()"
   ]
  },
  {
   "cell_type": "code",
   "execution_count": 8,
   "metadata": {
    "collapsed": true
   },
   "outputs": [],
   "source": [
    "def roll_weapon(n, N):\n",
    "    '''\n",
    "    Args:\n",
    "        n (int): number of weapons you currently have\n",
    "        N (int): number of weapons there are\n",
    "    \n",
    "    Returns:\n",
    "        1: r < p(n); p(n) probability of item not in {n}.\n",
    "        0: r > p(n) = 1 - q(n) ; q(n) probability of an item already in {n}.\n",
    "        \n",
    "        r a random number from a unifom distribution.\n",
    "        \n",
    "    >>> roll_weapon(0, 19) == 1 # if you dont have any items, 100% chance\n",
    "    >>> roll_weapon(19,19) == 0 # if you have them all, 0% chance\n",
    "    '''\n",
    "    \n",
    "    # unique \n",
    "    p = (N - n) / N\n",
    "    # duplicate\n",
    "    q = n / N\n",
    "    \n",
    "    return int(np.random.uniform() <= p)\n",
    "    "
   ]
  },
  {
   "cell_type": "code",
   "execution_count": 21,
   "metadata": {
    "collapsed": true
   },
   "outputs": [],
   "source": []
  },
  {
   "cell_type": "code",
   "execution_count": 46,
   "metadata": {
    "collapsed": false
   },
   "outputs": [
    {
     "name": "stdout",
     "output_type": "stream",
     "text": [
      "    0   3.0   0.0 3.0\n",
      "    1 3.177 0.767900384165 3.94490038416\n",
      "    2 3.342 1.11042154158 4.45242154158\n",
      "    3 3.615 1.47267613548 5.08767613548\n",
      "    4 3.801 1.70686818472 5.50786818472\n",
      "    5 3.939 1.93733812227 5.87633812227\n",
      "    6 4.353 2.45487087237 6.80787087237\n",
      "    7 4.764 2.94283944516 7.70683944516\n",
      "    8 4.995 3.19295709335 8.18795709335\n",
      "    9  5.61 4.0417694145 9.6517694145\n",
      "   10 6.342 4.93406890913 11.2760689091\n",
      "   11 7.188 5.32716209628 12.5151620963\n",
      "   12 8.316 6.66784402937 14.9838440294\n",
      "   13 9.519 7.84089529327 17.3598952933\n",
      "   14 11.103 9.711662628 20.814662628\n",
      "   15 14.052 12.1402345941 26.1922345941\n",
      "   16 18.987 16.8542229426 35.8412229426\n",
      "   17 29.547 27.1101418477 56.6571418477\n",
      "   18 54.024 52.5895752407 106.613575241\n"
     ]
    }
   ],
   "source": [
    "n_trials = 1000\n",
    "# test results for all values of `n`: the number of items you have\n",
    "for n in range(19):\n",
    "    # simulation for each value of n\n",
    "    roll_results = []\n",
    "    for t in range(n_trials):\n",
    "        # rolling for unique item\n",
    "        num_rolls = 0\n",
    "        roll = 0\n",
    "        # roll until you get an item you don't have (roll == 1)\n",
    "        # and track the num rolls it took\n",
    "        while roll != 1:\n",
    "            roll = roll_weapon(n, 19)\n",
    "            num_rolls += 1\n",
    "        # keep results in a list of n_trials samples\n",
    "        roll_results.append(num_rolls)\n",
    "    # factor in the actual cost in currency (relics)\n",
    "    # it's 3 because each item you roll it costs 4, but you \n",
    "    # can salvage the result for 1 back no matter what\n",
    "    \n",
    "    # compare this to spending 10 and salvaging for a cost of 9\n",
    "    avg = 3 * np.mean(roll_results)\n",
    "    std = 3 * np.std(roll_results)\n",
    "    print(\"{0:>5} {1:>5} {2:>5} {3}\".format(n, avg, std, avg + std))"
   ]
  },
  {
   "cell_type": "code",
   "execution_count": null,
   "metadata": {
    "collapsed": true
   },
   "outputs": [],
   "source": []
  },
  {
   "cell_type": "code",
   "execution_count": null,
   "metadata": {
    "collapsed": true
   },
   "outputs": [],
   "source": []
  },
  {
   "cell_type": "code",
   "execution_count": null,
   "metadata": {
    "collapsed": true
   },
   "outputs": [],
   "source": []
  },
  {
   "cell_type": "code",
   "execution_count": null,
   "metadata": {
    "collapsed": true
   },
   "outputs": [],
   "source": []
  }
 ],
 "metadata": {
  "kernelspec": {
   "display_name": "Python 2",
   "language": "python",
   "name": "python2"
  },
  "language_info": {
   "codemirror_mode": {
    "name": "ipython",
    "version": 2
   },
   "file_extension": ".py",
   "mimetype": "text/x-python",
   "name": "python",
   "nbconvert_exporter": "python",
   "pygments_lexer": "ipython2",
   "version": "2.7.6"
  }
 },
 "nbformat": 4,
 "nbformat_minor": 0
}
