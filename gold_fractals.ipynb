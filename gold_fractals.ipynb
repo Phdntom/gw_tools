{
 "cells": [
  {
   "cell_type": "code",
   "execution_count": 2,
   "metadata": {
    "collapsed": true
   },
   "outputs": [],
   "source": [
    "from __future__ import division, print_function"
   ]
  },
  {
   "cell_type": "code",
   "execution_count": 4,
   "metadata": {
    "collapsed": true
   },
   "outputs": [],
   "source": [
    "import numpy as np"
   ]
  },
  {
   "cell_type": "code",
   "execution_count": 1,
   "metadata": {
    "collapsed": true
   },
   "outputs": [],
   "source": [
    "# number of unique weapons\n",
    "N = 19"
   ]
  },
  {
   "cell_type": "code",
   "execution_count": 5,
   "metadata": {
    "collapsed": false
   },
   "outputs": [
    {
     "data": {
      "text/plain": [
       "0.5479804460266374"
      ]
     },
     "execution_count": 5,
     "metadata": {},
     "output_type": "execute_result"
    }
   ],
   "source": [
    "np.random.uniform()"
   ]
  },
  {
   "cell_type": "code",
   "execution_count": 8,
   "metadata": {
    "collapsed": true
   },
   "outputs": [],
   "source": [
    "def roll_weapon(n, N):\n",
    "    '''\n",
    "    Args:\n",
    "        n (int): number of weapons you currently have\n",
    "        N (int): number of weapons there are\n",
    "    \n",
    "    Returns:\n",
    "        1: r < p(n); p(n) probability of item not in {n}.\n",
    "        0: r > p(n) = 1 - q(n) ; q(n) probability of an item already in {n}.\n",
    "        \n",
    "        r a random number from a unifom distribution.\n",
    "        \n",
    "    >>> roll_weapon(0, 19) == 1 # if you dont have any items, 100% chance\n",
    "    >>> roll_weapon(19,19) == 0 # if you have them all, 0% chance\n",
    "    '''\n",
    "    \n",
    "    # unique \n",
    "    p = (N - n) / N\n",
    "    # duplicate\n",
    "    q = n / N\n",
    "    \n",
    "    return int(np.random.uniform() <= p)\n",
    "    "
   ]
  },
  {
   "cell_type": "code",
   "execution_count": 21,
   "metadata": {
    "collapsed": true
   },
   "outputs": [],
   "source": []
  },
  {
   "cell_type": "code",
   "execution_count": 145,
   "metadata": {
    "collapsed": false
   },
   "outputs": [
    {
     "name": "stdout",
     "output_type": "stream",
     "text": [
      " cur num   avg cost    std dev   s (<15.9%)   2s (<2.3%)   3s (<0.1%)\n",
      "       0        3.0        0.0          3.0          3.0          3.0\n",
      "       1      3.167     0.7286        3.896        4.624        5.353\n",
      "       2      3.348      1.072         4.42        5.492        6.564\n",
      "       3      3.564      1.414        4.978        6.393        7.807\n",
      "       4      3.793      1.736        5.529        7.264          9.0\n",
      "       5      4.073      2.088        6.162         8.25        10.34\n",
      "       6      4.377      2.464        6.841        9.305        11.77\n",
      "       7      4.754      2.883        7.637        10.52         13.4\n",
      "       8      5.179      3.366        8.544        11.91        15.28\n",
      "       9      5.671      3.886        9.558        13.44        17.33\n",
      "      10      6.318      4.593        10.91         15.5         20.1\n",
      "      11       7.13      5.404        12.53        17.94        23.34\n",
      "      12      8.132      6.443        14.58        21.02        27.46\n",
      "      13       9.47      7.856        17.33        25.18        33.04\n",
      "      14      11.34      9.756         21.1        30.85        40.61\n",
      "      15      14.25      12.68        26.93        39.61        52.29\n",
      "      16      18.95      17.32        36.27        53.59         70.9\n",
      "      17      28.36      26.89        55.25        82.14        109.0\n",
      "      18      56.95       55.3        112.3        167.6        222.9\n"
     ]
    }
   ],
   "source": [
    "n_trials = 100000\n",
    "print(\"{0:>8} {1:>10} {2:>10} {3:>12} {4:>12} {5:>12}\".format('cur num', 'avg cost', 'std dev',\n",
    "                                                       \"s (<15.9%)\", '2s (<2.3%)', '3s (<0.1%)'))\n",
    "# test results for all values of `n`: the number of items you have\n",
    "tot_avg = 0\n",
    "var = 0\n",
    "\n",
    "for n in range(19):\n",
    "    # simulation for each value of n\n",
    "    roll_results = []\n",
    "    for t in range(n_trials):\n",
    "        # rolling for unique item\n",
    "        num_rolls = 0\n",
    "        roll = 0\n",
    "        # roll until you get an item you don't have (roll == 1)\n",
    "        # and track the num rolls it took\n",
    "        while roll != 1:\n",
    "            roll = roll_weapon(n, 19)\n",
    "            num_rolls += 1\n",
    "        # keep results in a list of n_trials samples\n",
    "        roll_results.append(num_rolls)\n",
    "    # factor in the actual cost in currency (relics)\n",
    "    # it's 3 because each item you roll it costs 4, but you \n",
    "    # can salvage the result for 1 back no matter what\n",
    "    \n",
    "    # compare this to spending 10 and salvaging for a cost of 9\n",
    "    cost_avg = 3 * np.mean(roll_results)\n",
    "    cost_std = 3 * np.std(roll_results)\n",
    "    \n",
    "    sig1 = cost_avg + 1 * cost_std\n",
    "    sig2 = cost_avg + 2 * cost_std\n",
    "    sig3 = cost_avg + 3 * cost_std\n",
    "    if cost_avg < 9:\n",
    "        tot_avg += cost_avg\n",
    "        var += cost_std ** 2\n",
    "    else:\n",
    "        tot_avg += 9\n",
    "        # var += 0\n",
    "                \n",
    "    print(\"{0:>8} {1:>10.4} {2:>10.4} {3:>12.4} {4:>12.4} {5:>12.4}\".format(n, cost_avg, cost_std, sig1, sig2, sig3))"
   ]
  },
  {
   "cell_type": "code",
   "execution_count": 160,
   "metadata": {
    "collapsed": false
   },
   "outputs": [
    {
     "name": "stdout",
     "output_type": "stream",
     "text": [
      "avg_total sig1          sig2          sig3\n",
      "116.50794 128.494396671 140.480853342 152.467310013\n"
     ]
    }
   ],
   "source": [
    "print('avg_total', 'sig1', '         sig2', '         sig3')\n",
    "print(tot_avg, tot_avg + np.sqrt(var), tot_avg + 2 * np.sqrt(var), tot_avg + 3 * np.sqrt(var))\n",
    "#print(tot_cut1, tot_cut1 + np.sqrt(var1))\n"
   ]
  },
  {
   "cell_type": "code",
   "execution_count": null,
   "metadata": {
    "collapsed": true
   },
   "outputs": [],
   "source": []
  },
  {
   "cell_type": "code",
   "execution_count": null,
   "metadata": {
    "collapsed": true
   },
   "outputs": [],
   "source": []
  },
  {
   "cell_type": "code",
   "execution_count": null,
   "metadata": {
    "collapsed": true
   },
   "outputs": [],
   "source": []
  }
 ],
 "metadata": {
  "kernelspec": {
   "display_name": "Python 2",
   "language": "python",
   "name": "python2"
  },
  "language_info": {
   "codemirror_mode": {
    "name": "ipython",
    "version": 2
   },
   "file_extension": ".py",
   "mimetype": "text/x-python",
   "name": "python",
   "nbconvert_exporter": "python",
   "pygments_lexer": "ipython2",
   "version": "2.7.6"
  }
 },
 "nbformat": 4,
 "nbformat_minor": 0
}
