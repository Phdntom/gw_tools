{
 "cells": [
  {
   "cell_type": "code",
   "execution_count": 2,
   "metadata": {
    "collapsed": true
   },
   "outputs": [],
   "source": [
    "from __future__ import division, print_function"
   ]
  },
  {
   "cell_type": "code",
   "execution_count": 4,
   "metadata": {
    "collapsed": true
   },
   "outputs": [],
   "source": [
    "import numpy as np"
   ]
  },
  {
   "cell_type": "code",
   "execution_count": 1,
   "metadata": {
    "collapsed": true
   },
   "outputs": [],
   "source": [
    "# number of unique weapons\n",
    "N = 19"
   ]
  },
  {
   "cell_type": "code",
   "execution_count": 5,
   "metadata": {
    "collapsed": false
   },
   "outputs": [
    {
     "data": {
      "text/plain": [
       "0.5479804460266374"
      ]
     },
     "execution_count": 5,
     "metadata": {},
     "output_type": "execute_result"
    }
   ],
   "source": [
    "np.random.uniform()"
   ]
  },
  {
   "cell_type": "code",
   "execution_count": 8,
   "metadata": {
    "collapsed": true
   },
   "outputs": [],
   "source": [
    "def roll_weapon(n, N):\n",
    "    '''\n",
    "    Args:\n",
    "        n (int): number of weapons you currently have\n",
    "        N (int): number of weapons there are\n",
    "    \n",
    "    Returns:\n",
    "        1: r < p(n); p(n) probability of item not in {n}.\n",
    "        0: r > p(n) = 1 - q(n) ; q(n) probability of an item already in {n}.\n",
    "        \n",
    "        r a random number from a unifom distribution.\n",
    "        \n",
    "    >>> roll_weapon(0, 19) == 1 # if you dont have any items, 100% chance\n",
    "    >>> roll_weapon(19,19) == 0 # if you have them all, 0% chance\n",
    "    '''\n",
    "    \n",
    "    # unique \n",
    "    p = (N - n) / N\n",
    "    # duplicate\n",
    "    q = n / N\n",
    "    \n",
    "    return int(np.random.uniform() <= p)\n",
    "    "
   ]
  },
  {
   "cell_type": "code",
   "execution_count": 21,
   "metadata": {
    "collapsed": true
   },
   "outputs": [],
   "source": []
  },
  {
   "cell_type": "code",
   "execution_count": 120,
   "metadata": {
    "collapsed": false
   },
   "outputs": [
    {
     "name": "stdout",
     "output_type": "stream",
     "text": [
      " cur num   avg cost    std dev   s (<15.9%)   2s (<2.3%)   3s (<0.1%)\n",
      "       0        3.0        0.0          3.0          3.0          3.0\n",
      "       1      3.167     0.7291        3.896        4.626        5.355\n",
      "       2      3.349      1.079        4.428        5.507        6.586\n",
      "       3      3.561      1.413        4.974        6.387          7.8\n",
      "       4      3.801      1.748        5.549        7.297        9.045\n",
      "       5      4.073      2.095        6.169        8.264        10.36\n",
      "       6      4.387      2.467        6.854         9.32        11.79\n",
      "       7      4.752      2.906        7.658        10.56        13.47\n",
      "       8      5.166      3.347        8.513        11.86        15.21\n",
      "       9      5.694      3.914        9.608        13.52        17.44\n",
      "      10      6.327       4.59        10.92        15.51         20.1\n",
      "      11      7.143      5.437        12.58        18.02        23.45\n",
      "      12       8.13      6.435        14.56         21.0        27.43\n",
      "      13      9.458      7.843         17.3        25.14        32.99\n",
      "      14      11.42      9.797        21.22        31.02        40.82\n",
      "      15      14.21      12.62        26.83        39.46        52.08\n",
      "      16      18.95      17.39        36.33        53.72        71.11\n",
      "      17      28.51      26.94        55.44        82.38        109.3\n",
      "      18      56.68      55.54        112.2        167.8        223.3\n"
     ]
    }
   ],
   "source": [
    "n_trials = 100000\n",
    "print(\"{0:>8} {1:>10} {2:>10} {3:>12} {4:>12} {5:>12}\".format('cur num', 'avg cost', 'std dev',\n",
    "                                                       \"s (<15.9%)\", '2s (<2.3%)', '3s (<0.1%)'))\n",
    "# test results for all values of `n`: the number of items you have\n",
    "tot_avg = 0\n",
    "tot_sig1 = 0\n",
    "var1 = 0\n",
    "for n in range(19):\n",
    "    # simulation for each value of n\n",
    "    roll_results = []\n",
    "    for t in range(n_trials):\n",
    "        # rolling for unique item\n",
    "        num_rolls = 0\n",
    "        roll = 0\n",
    "        # roll until you get an item you don't have (roll == 1)\n",
    "        # and track the num rolls it took\n",
    "        while roll != 1:\n",
    "            roll = roll_weapon(n, 19)\n",
    "            num_rolls += 1\n",
    "        # keep results in a list of n_trials samples\n",
    "        roll_results.append(num_rolls)\n",
    "    # factor in the actual cost in currency (relics)\n",
    "    # it's 3 because each item you roll it costs 4, but you \n",
    "    # can salvage the result for 1 back no matter what\n",
    "    \n",
    "    # compare this to spending 10 and salvaging for a cost of 9\n",
    "    cost_avg = 3 * np.mean(roll_results)\n",
    "    cost_std = 3 * np.std(roll_results)\n",
    "    cost_max = 3 * np.max(roll_results)\n",
    "    sig1 = cost_avg + 1 * cost_std\n",
    "    sig2 = cost_avg + 2 * cost_std\n",
    "    sig3 = cost_avg + 3 * cost_std\n",
    "    if cost_avg < 9:\n",
    "        tot_avg += cost_avg\n",
    "    else:\n",
    "        tot_avg += 9\n",
    "\n",
    "    if sig1 < 9:\n",
    "        var1 += cost_std ** 2\n",
    "    else:\n",
    "        var1 += 0\n",
    "                \n",
    "    print(\"{0:>8} {1:>10.4} {2:>10.4} {3:>12.4} {4:>12.4} {5:>12.4}\".format(n, cost_avg, cost_std, sig1, sig2, sig3))"
   ]
  },
  {
   "cell_type": "code",
   "execution_count": 123,
   "metadata": {
    "collapsed": false
   },
   "outputs": [
    {
     "name": "stdout",
     "output_type": "stream",
     "text": [
      "avg_total relics, sig1_total_relics sig2 sig3\n",
      "116.54943 122.621407171 128.693384343 134.765361514\n"
     ]
    }
   ],
   "source": [
    "print('avg_total relics, sig1_total_relics', 'sig2', 'sig3')\n",
    "print(tot_avg, tot_avg + np.sqrt(var1), tot_avg + 2 * np.sqrt(var1), tot_avg + 3 * np.sqrt(var1))"
   ]
  },
  {
   "cell_type": "code",
   "execution_count": null,
   "metadata": {
    "collapsed": true
   },
   "outputs": [],
   "source": []
  },
  {
   "cell_type": "code",
   "execution_count": null,
   "metadata": {
    "collapsed": true
   },
   "outputs": [],
   "source": []
  },
  {
   "cell_type": "code",
   "execution_count": null,
   "metadata": {
    "collapsed": true
   },
   "outputs": [],
   "source": []
  }
 ],
 "metadata": {
  "kernelspec": {
   "display_name": "Python 2",
   "language": "python",
   "name": "python2"
  },
  "language_info": {
   "codemirror_mode": {
    "name": "ipython",
    "version": 2
   },
   "file_extension": ".py",
   "mimetype": "text/x-python",
   "name": "python",
   "nbconvert_exporter": "python",
   "pygments_lexer": "ipython2",
   "version": "2.7.6"
  }
 },
 "nbformat": 4,
 "nbformat_minor": 0
}
