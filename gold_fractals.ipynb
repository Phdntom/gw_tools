{
 "cells": [
  {
   "cell_type": "code",
   "execution_count": 2,
   "metadata": {
    "collapsed": true
   },
   "outputs": [],
   "source": [
    "from __future__ import division, print_function"
   ]
  },
  {
   "cell_type": "code",
   "execution_count": 4,
   "metadata": {
    "collapsed": true
   },
   "outputs": [],
   "source": [
    "import numpy as np"
   ]
  },
  {
   "cell_type": "code",
   "execution_count": 1,
   "metadata": {
    "collapsed": true
   },
   "outputs": [],
   "source": [
    "# number of unique weapons\n",
    "N = 19"
   ]
  },
  {
   "cell_type": "code",
   "execution_count": 5,
   "metadata": {
    "collapsed": false
   },
   "outputs": [
    {
     "data": {
      "text/plain": [
       "0.5479804460266374"
      ]
     },
     "execution_count": 5,
     "metadata": {},
     "output_type": "execute_result"
    }
   ],
   "source": [
    "np.random.uniform()"
   ]
  },
  {
   "cell_type": "code",
   "execution_count": 8,
   "metadata": {
    "collapsed": true
   },
   "outputs": [],
   "source": [
    "def roll_weapon(n, N):\n",
    "    '''\n",
    "    Args:\n",
    "        n (int): number of weapons you currently have\n",
    "        N (int): number of weapons there are\n",
    "    \n",
    "    Returns:\n",
    "        1: r < p(n); p(n) probability of item not in {n}.\n",
    "        0: r > p(n) = 1 - q(n) ; q(n) probability of an item already in {n}.\n",
    "        \n",
    "        r a random number from a unifom distribution.\n",
    "        \n",
    "    >>> roll_weapon(0, 19) == 1 # if you dont have any items, 100% chance\n",
    "    >>> roll_weapon(19,19) == 0 # if you have them all, 0% chance\n",
    "    '''\n",
    "    \n",
    "    # unique \n",
    "    p = (N - n) / N\n",
    "    # duplicate\n",
    "    q = n / N\n",
    "    \n",
    "    return int(np.random.uniform() <= p)\n",
    "    "
   ]
  },
  {
   "cell_type": "code",
   "execution_count": 21,
   "metadata": {
    "collapsed": true
   },
   "outputs": [],
   "source": []
  },
  {
   "cell_type": "code",
   "execution_count": 117,
   "metadata": {
    "collapsed": false
   },
   "outputs": [
    {
     "name": "stdout",
     "output_type": "stream",
     "text": [
      " cur num   avg cost    std dev   s (<15.9%)   2s (<2.3%)   3s (<0.1%)\n",
      "       0        3.0        0.0          3.0          3.0          3.0\n",
      "       1      3.167     0.7279        3.895        4.623         5.35\n",
      "       2      3.353      1.082        4.435        5.517        6.599\n",
      "       3      3.561      1.405        4.966        6.372        7.777\n",
      "       4      3.811      1.756        5.568        7.324        9.081\n",
      "       5      4.065      2.091        6.156        8.248        10.34\n",
      "       6      4.385      2.464        6.849        9.313        11.78\n",
      "       7      4.758      2.902        7.659        10.56        13.46\n",
      "       8      5.166      3.327        8.493        11.82        15.15\n",
      "       9      5.703      3.933        9.636        13.57         17.5\n",
      "      10      6.357        4.6        10.96        15.56        20.16\n",
      "      11      7.124      5.412        12.54        17.95        23.36\n",
      "      12      8.144      6.491        14.63        21.13        27.62\n",
      "      13       9.51      7.841        17.35        25.19        33.03\n",
      "      14      11.41      9.857        21.26        31.12        40.98\n",
      "      15      14.27      12.57        26.84        39.41        51.98\n",
      "      16      19.07      17.42        36.49        53.91        71.33\n",
      "      17      28.48       27.0        55.48        82.48        109.5\n",
      "      18      56.99       55.4        112.4        167.8        223.2\n"
     ]
    }
   ],
   "source": [
    "n_trials = 100000\n",
    "print(\"{0:>8} {1:>10} {2:>10} {3:>12} {4:>12} {5:>12}\".format('cur num', 'avg cost', 'std dev',\n",
    "                                                       \"s (<15.9%)\", '2s (<2.3%)', '3s (<0.1%)'))\n",
    "# test results for all values of `n`: the number of items you have\n",
    "tot_avg = 0\n",
    "tot_sig1 = 0\n",
    "var1 = 0\n",
    "for n in range(19):\n",
    "    # simulation for each value of n\n",
    "    roll_results = []\n",
    "    for t in range(n_trials):\n",
    "        # rolling for unique item\n",
    "        num_rolls = 0\n",
    "        roll = 0\n",
    "        # roll until you get an item you don't have (roll == 1)\n",
    "        # and track the num rolls it took\n",
    "        while roll != 1:\n",
    "            roll = roll_weapon(n, 19)\n",
    "            num_rolls += 1\n",
    "        # keep results in a list of n_trials samples\n",
    "        roll_results.append(num_rolls)\n",
    "    # factor in the actual cost in currency (relics)\n",
    "    # it's 3 because each item you roll it costs 4, but you \n",
    "    # can salvage the result for 1 back no matter what\n",
    "    \n",
    "    # compare this to spending 10 and salvaging for a cost of 9\n",
    "    cost_avg = 3 * np.mean(roll_results)\n",
    "    cost_std = 3 * np.std(roll_results)\n",
    "    cost_max = 3 * np.max(roll_results)\n",
    "    sig1 = cost_avg + 1 * cost_std\n",
    "    sig2 = cost_avg + 2 * cost_std\n",
    "    sig3 = cost_avg + 3 * cost_std\n",
    "    if cost_avg < 9:\n",
    "        tot_avg += cost_avg\n",
    "    else:\n",
    "        tot_avg += 9\n",
    "\n",
    "    var1 += cost_std ** 2\n",
    "                \n",
    "    print(\"{0:>8} {1:>10.4} {2:>10.4} {3:>12.4} {4:>12.4} {5:>12.4}\".format(n, cost_avg, cost_std, sig1, sig2, sig3))"
   ]
  },
  {
   "cell_type": "code",
   "execution_count": 108,
   "metadata": {
    "collapsed": false
   },
   "outputs": [
    {
     "name": "stdout",
     "output_type": "stream",
     "text": [
      "avg_total relics, sig1_total_relics\n",
      "116.58993 184.153479039\n"
     ]
    }
   ],
   "source": [
    "print('avg_total relics, sig1_total_relics')\n",
    "print(tot_avg, tot_avg + np.sqrt(var1))"
   ]
  },
  {
   "cell_type": "code",
   "execution_count": null,
   "metadata": {
    "collapsed": true
   },
   "outputs": [],
   "source": []
  },
  {
   "cell_type": "code",
   "execution_count": null,
   "metadata": {
    "collapsed": true
   },
   "outputs": [],
   "source": []
  },
  {
   "cell_type": "code",
   "execution_count": null,
   "metadata": {
    "collapsed": true
   },
   "outputs": [],
   "source": []
  }
 ],
 "metadata": {
  "kernelspec": {
   "display_name": "Python 2",
   "language": "python",
   "name": "python2"
  },
  "language_info": {
   "codemirror_mode": {
    "name": "ipython",
    "version": 2
   },
   "file_extension": ".py",
   "mimetype": "text/x-python",
   "name": "python",
   "nbconvert_exporter": "python",
   "pygments_lexer": "ipython2",
   "version": "2.7.6"
  }
 },
 "nbformat": 4,
 "nbformat_minor": 0
}
