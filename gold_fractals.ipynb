{
 "cells": [
  {
   "cell_type": "code",
   "execution_count": 2,
   "metadata": {
    "collapsed": true
   },
   "outputs": [],
   "source": [
    "from __future__ import division, print_function"
   ]
  },
  {
   "cell_type": "code",
   "execution_count": 4,
   "metadata": {
    "collapsed": true
   },
   "outputs": [],
   "source": [
    "import numpy as np"
   ]
  },
  {
   "cell_type": "code",
   "execution_count": 1,
   "metadata": {
    "collapsed": true
   },
   "outputs": [],
   "source": [
    "# number of unique weapons\n",
    "N = 19"
   ]
  },
  {
   "cell_type": "code",
   "execution_count": 5,
   "metadata": {
    "collapsed": false
   },
   "outputs": [
    {
     "data": {
      "text/plain": [
       "0.5479804460266374"
      ]
     },
     "execution_count": 5,
     "metadata": {},
     "output_type": "execute_result"
    }
   ],
   "source": [
    "np.random.uniform()"
   ]
  },
  {
   "cell_type": "code",
   "execution_count": 8,
   "metadata": {
    "collapsed": true
   },
   "outputs": [],
   "source": [
    "def roll_weapon(n, N):\n",
    "    '''\n",
    "    Args:\n",
    "        n (int): number of weapons you currently have\n",
    "        N (int): number of weapons there are\n",
    "    \n",
    "    Returns:\n",
    "        1: r < p(n); p(n) probability of item not in {n}.\n",
    "        0: r > p(n) = 1 - q(n) ; q(n) probability of an item already in {n}.\n",
    "        \n",
    "        r a random number from a unifom distribution.\n",
    "        \n",
    "    >>> roll_weapon(0, 19) == 1 # if you dont have any items, 100% chance\n",
    "    >>> roll_weapon(19,19) == 0 # if you have them all, 0% chance\n",
    "    '''\n",
    "    \n",
    "    # unique \n",
    "    p = (N - n) / N\n",
    "    # duplicate\n",
    "    q = n / N\n",
    "    \n",
    "    return int(np.random.uniform() <= p)\n",
    "    "
   ]
  },
  {
   "cell_type": "code",
   "execution_count": 21,
   "metadata": {
    "collapsed": true
   },
   "outputs": [],
   "source": []
  },
  {
   "cell_type": "code",
   "execution_count": 34,
   "metadata": {
    "collapsed": false
   },
   "outputs": [
    {
     "name": "stdout",
     "output_type": "stream",
     "text": [
      "0 3.0 0.0 3.0\n",
      "1 3.1689 0.725791147645 3.89469114765\n",
      "2 3.3648 1.09248384885 4.45728384885\n",
      "3 3.5757 1.44522299663 5.02092299663\n",
      "4 3.783 1.71624910779 5.49924910779\n",
      "5 4.0629 2.06754530543 6.13044530543\n",
      "6 4.3452 2.40886632257 6.75406632257\n",
      "7 4.7544 2.83719591146 7.59159591146\n",
      "8 5.202 3.44522800407 8.64722800407\n",
      "9 5.6775 3.96357083323 9.64107083323\n",
      "10 6.3042 4.58138214516 10.8855821452\n",
      "11 7.0869 5.49699448699 12.583894487\n",
      "12 8.0694 6.41928217482 14.4886821748\n",
      "13 9.5205 7.80369013672 17.3241901367\n",
      "14 11.5206 9.7804895399 21.3010895399\n",
      "15 14.3253 12.6135355833 26.9388355833\n",
      "16 18.7896 17.318947192 36.108547192\n",
      "17 28.7001 27.0159538049 55.7160538049\n",
      "18 57.0186 55.8337125225 112.852312522\n"
     ]
    }
   ],
   "source": [
    "n_trials = 10000\n",
    "# test results for all values of `n`: the number of items you have\n",
    "for n in range(19):\n",
    "    # simulation for each value of n\n",
    "    roll_results = []\n",
    "    for t in range(n_trials):\n",
    "        # rolling for unique item\n",
    "        num_rolls = 0\n",
    "        roll = 0\n",
    "        # roll until you get an item you don't have (roll == 1)\n",
    "        # and track the num rolls it took\n",
    "        while roll != 1:\n",
    "            roll = roll_weapon(n, 19)\n",
    "            num_rolls += 1\n",
    "        # keep results in a list of n_trials samples\n",
    "        roll_results.append(num_rolls)\n",
    "    # factor in the actual cost in currency (relics)\n",
    "    # it's 3 because each item you roll it costs 4, but you \n",
    "    # can salvage the result for 1 back no matter what\n",
    "    \n",
    "    # compare this to spending 10 and salvaging for a cost of 9\n",
    "    avg = 3 * np.mean(roll_results)\n",
    "    std = 3 * np.std(roll_results)\n",
    "    print(n, avg, std, avg + std)"
   ]
  },
  {
   "cell_type": "code",
   "execution_count": null,
   "metadata": {
    "collapsed": true
   },
   "outputs": [],
   "source": []
  },
  {
   "cell_type": "code",
   "execution_count": null,
   "metadata": {
    "collapsed": true
   },
   "outputs": [],
   "source": []
  },
  {
   "cell_type": "code",
   "execution_count": null,
   "metadata": {
    "collapsed": true
   },
   "outputs": [],
   "source": []
  },
  {
   "cell_type": "code",
   "execution_count": null,
   "metadata": {
    "collapsed": true
   },
   "outputs": [],
   "source": []
  }
 ],
 "metadata": {
  "kernelspec": {
   "display_name": "Python 2",
   "language": "python",
   "name": "python2"
  },
  "language_info": {
   "codemirror_mode": {
    "name": "ipython",
    "version": 2
   },
   "file_extension": ".py",
   "mimetype": "text/x-python",
   "name": "python",
   "nbconvert_exporter": "python",
   "pygments_lexer": "ipython2",
   "version": "2.7.6"
  }
 },
 "nbformat": 4,
 "nbformat_minor": 0
}
