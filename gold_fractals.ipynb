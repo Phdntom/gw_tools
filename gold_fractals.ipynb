{
 "cells": [
  {
   "cell_type": "code",
   "execution_count": 2,
   "metadata": {
    "collapsed": true
   },
   "outputs": [],
   "source": [
    "from __future__ import division, print_function"
   ]
  },
  {
   "cell_type": "code",
   "execution_count": 4,
   "metadata": {
    "collapsed": true
   },
   "outputs": [],
   "source": [
    "import numpy as np"
   ]
  },
  {
   "cell_type": "code",
   "execution_count": 1,
   "metadata": {
    "collapsed": true
   },
   "outputs": [],
   "source": [
    "# number of unique weapons\n",
    "N = 19"
   ]
  },
  {
   "cell_type": "code",
   "execution_count": 5,
   "metadata": {
    "collapsed": false
   },
   "outputs": [
    {
     "data": {
      "text/plain": [
       "0.5479804460266374"
      ]
     },
     "execution_count": 5,
     "metadata": {},
     "output_type": "execute_result"
    }
   ],
   "source": [
    "np.random.uniform()"
   ]
  },
  {
   "cell_type": "code",
   "execution_count": 8,
   "metadata": {
    "collapsed": true
   },
   "outputs": [],
   "source": [
    "def roll_weapon(n, N):\n",
    "    '''\n",
    "    Args:\n",
    "        n (int): number of weapons you currently have\n",
    "        N (int): number of weapons there are\n",
    "    \n",
    "    Returns:\n",
    "        1: r < p(n); p(n) probability of item not in {n}.\n",
    "        0: r > p(n) = 1 - q(n) ; q(n) probability of an item already in {n}.\n",
    "        \n",
    "        r a random number from a unifom distribution.\n",
    "        \n",
    "    >>> roll_weapon(0, 19) == 1 # if you dont have any items, 100% chance\n",
    "    >>> roll_weapon(19,19) == 0 # if you have them all, 0% chance\n",
    "    '''\n",
    "    \n",
    "    # unique \n",
    "    p = (N - n) / N\n",
    "    # duplicate\n",
    "    q = n / N\n",
    "    \n",
    "    return int(np.random.uniform() <= p)\n",
    "    "
   ]
  },
  {
   "cell_type": "code",
   "execution_count": 21,
   "metadata": {
    "collapsed": true
   },
   "outputs": [],
   "source": []
  },
  {
   "cell_type": "code",
   "execution_count": 105,
   "metadata": {
    "collapsed": false
   },
   "outputs": [
    {
     "name": "stdout",
     "output_type": "stream",
     "text": [
      "    current num        avg cost    std dev cost       sig (<15.9%)       2sig (<2.3%)       3sig (<0.1%)\n",
      "              0             3.0             0.0                3.0                3.0                3.0\n",
      "              1           3.167          0.7251              3.892              4.617              5.342\n",
      "              2           3.357           1.088              4.445              5.533              6.621\n",
      "              3            3.56            1.41               4.97               6.38               7.79\n",
      "              4           3.797           1.745              5.542              7.287              9.032\n",
      "              5           4.074           2.085              6.159              8.244              10.33\n",
      "              6           4.401           2.471              6.872              9.343              11.81\n",
      "              7           4.748             2.9              7.648              10.55              13.45\n",
      "              8           5.177           3.326              8.503              11.83              15.16\n",
      "              9           5.696           3.919              9.614              13.53              17.45\n",
      "             10           6.338           4.617              10.96              15.57              20.19\n",
      "             11           7.112           5.394              12.51               17.9               23.3\n",
      "             12           8.115           6.448              14.56              21.01              27.46\n",
      "             13            9.53           7.892              17.42              25.31              33.21\n",
      "             14           11.39           9.794              21.18              30.97              40.77\n",
      "             15           14.28           12.71              26.99               39.7              52.41\n",
      "             16           18.97            17.3              36.27              53.58              70.88\n",
      "             17           28.41           26.87              55.28              82.15              109.0\n",
      "             18           56.86           55.54              112.4              167.9              223.5\n",
      "Cutting when less than 9\n",
      "116.54232 184.146414773\n"
     ]
    }
   ],
   "source": [
    "n_trials = 100000\n",
    "print(\"{0:>15} {1:>15} {2:>15} {3:>18} {4:>18} {5:>18}\".format('current num', 'avg cost', 'std dev cost',\n",
    "                                                       \"sig (<15.9%)\", '2sig (<2.3%)', '3sig (<0.1%)'))\n",
    "# test results for all values of `n`: the number of items you have\n",
    "tot_avg = 0\n",
    "tot_sig1 = 0\n",
    "var1 = 0\n",
    "for n in range(19):\n",
    "    # simulation for each value of n\n",
    "    roll_results = []\n",
    "    for t in range(n_trials):\n",
    "        # rolling for unique item\n",
    "        num_rolls = 0\n",
    "        roll = 0\n",
    "        # roll until you get an item you don't have (roll == 1)\n",
    "        # and track the num rolls it took\n",
    "        while roll != 1:\n",
    "            roll = roll_weapon(n, 19)\n",
    "            num_rolls += 1\n",
    "        # keep results in a list of n_trials samples\n",
    "        roll_results.append(num_rolls)\n",
    "    # factor in the actual cost in currency (relics)\n",
    "    # it's 3 because each item you roll it costs 4, but you \n",
    "    # can salvage the result for 1 back no matter what\n",
    "    \n",
    "    # compare this to spending 10 and salvaging for a cost of 9\n",
    "    cost_avg = 3 * np.mean(roll_results)\n",
    "    cost_std = 3 * np.std(roll_results)\n",
    "    cost_max = 3 * np.max(roll_results)\n",
    "    sig1 = cost_avg + 1 * cost_std\n",
    "    sig2 = cost_avg + 2 * cost_std\n",
    "    sig3 = cost_avg + 3 * cost_std\n",
    "    if cost_avg < 9:\n",
    "        tot_avg += cost_avg\n",
    "    else:\n",
    "        tot_avg += 9\n",
    "\n",
    "    var1 += cost_std ** 2\n",
    "                \n",
    "    print(\"{0:>15} {1:>15.4} {2:>15.4} {3:>18.4} {4:>18.4} {5:>18.4}\".format(n, cost_avg, cost_std, sig1, sig2, sig3))"
   ]
  },
  {
   "cell_type": "code",
   "execution_count": null,
   "metadata": {
    "collapsed": true
   },
   "outputs": [],
   "source": [
    "print('avg_total relics, sig1_total_relics')\n",
    "print(tot_avg, tot_avg + np.sqrt(var1))"
   ]
  },
  {
   "cell_type": "code",
   "execution_count": null,
   "metadata": {
    "collapsed": true
   },
   "outputs": [],
   "source": []
  },
  {
   "cell_type": "code",
   "execution_count": null,
   "metadata": {
    "collapsed": true
   },
   "outputs": [],
   "source": []
  },
  {
   "cell_type": "code",
   "execution_count": null,
   "metadata": {
    "collapsed": true
   },
   "outputs": [],
   "source": []
  }
 ],
 "metadata": {
  "kernelspec": {
   "display_name": "Python 2",
   "language": "python",
   "name": "python2"
  },
  "language_info": {
   "codemirror_mode": {
    "name": "ipython",
    "version": 2
   },
   "file_extension": ".py",
   "mimetype": "text/x-python",
   "name": "python",
   "nbconvert_exporter": "python",
   "pygments_lexer": "ipython2",
   "version": "2.7.6"
  }
 },
 "nbformat": 4,
 "nbformat_minor": 0
}
