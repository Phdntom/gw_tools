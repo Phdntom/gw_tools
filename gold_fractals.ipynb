{
 "cells": [
  {
   "cell_type": "code",
   "execution_count": 2,
   "metadata": {
    "collapsed": true
   },
   "outputs": [],
   "source": [
    "from __future__ import division, print_function"
   ]
  },
  {
   "cell_type": "code",
   "execution_count": 4,
   "metadata": {
    "collapsed": true
   },
   "outputs": [],
   "source": [
    "import numpy as np"
   ]
  },
  {
   "cell_type": "code",
   "execution_count": 1,
   "metadata": {
    "collapsed": true
   },
   "outputs": [],
   "source": [
    "# number of unique weapons\n",
    "N = 19"
   ]
  },
  {
   "cell_type": "code",
   "execution_count": 5,
   "metadata": {
    "collapsed": false
   },
   "outputs": [
    {
     "data": {
      "text/plain": [
       "0.5479804460266374"
      ]
     },
     "execution_count": 5,
     "metadata": {},
     "output_type": "execute_result"
    }
   ],
   "source": [
    "np.random.uniform()"
   ]
  },
  {
   "cell_type": "code",
   "execution_count": 8,
   "metadata": {
    "collapsed": true
   },
   "outputs": [],
   "source": [
    "def roll_weapon(n, N):\n",
    "    '''\n",
    "    Args:\n",
    "        n (int): number of weapons you currently have\n",
    "        N (int): number of weapons there are\n",
    "    \n",
    "    Returns:\n",
    "        1: r < p(n); p(n) probability of item not in {n}.\n",
    "        0: r > p(n) = 1 - q(n) ; q(n) probability of an item already in {n}.\n",
    "        \n",
    "        r a random number from a unifom distribution.\n",
    "        \n",
    "    >>> roll_weapon(0, 19) == 1 # if you dont have any items, 100% chance\n",
    "    >>> roll_weapon(19,19) == 0 # if you have them all, 0% chance\n",
    "    '''\n",
    "    \n",
    "    # unique \n",
    "    p = (N - n) / N\n",
    "    # duplicate\n",
    "    q = n / N\n",
    "    \n",
    "    return int(np.random.uniform() <= p)\n",
    "    "
   ]
  },
  {
   "cell_type": "code",
   "execution_count": 21,
   "metadata": {
    "collapsed": true
   },
   "outputs": [],
   "source": []
  },
  {
   "cell_type": "code",
   "execution_count": 57,
   "metadata": {
    "collapsed": false
   },
   "outputs": [
    {
     "name": "stdout",
     "output_type": "stream",
     "text": [
      "current num weap     avg cost std dev cost\n",
      "              0          3.0          0.0\n",
      "              1         3.17        0.746\n",
      "              2         3.37         1.13\n",
      "              3         3.56         1.41\n",
      "              4          3.8         1.76\n",
      "              5          4.1         2.12\n",
      "              6         4.39         2.44\n",
      "              7         4.74         2.92\n",
      "              8         5.15         3.33\n",
      "              9         5.74         3.92\n",
      "             10         6.33         4.63\n",
      "             11         6.99         5.32\n",
      "             12         8.13         6.44\n",
      "             13         9.56         7.95\n",
      "             14         11.4         9.65\n",
      "             15         14.3         12.5\n",
      "             16         19.2         18.1\n",
      "             17         28.5         27.0\n",
      "             18         56.3         55.0\n"
     ]
    }
   ],
   "source": [
    "n_trials = 10000\n",
    "print(\"{0:>15} {1:>12} {2:>12}\".format('current num weap', 'avg cost', 'std dev cost'))\n",
    "# test results for all values of `n`: the number of items you have\n",
    "for n in range(19):\n",
    "    # simulation for each value of n\n",
    "    roll_results = []\n",
    "    for t in range(n_trials):\n",
    "        # rolling for unique item\n",
    "        num_rolls = 0\n",
    "        roll = 0\n",
    "        # roll until you get an item you don't have (roll == 1)\n",
    "        # and track the num rolls it took\n",
    "        while roll != 1:\n",
    "            roll = roll_weapon(n, 19)\n",
    "            num_rolls += 1\n",
    "        # keep results in a list of n_trials samples\n",
    "        roll_results.append(num_rolls)\n",
    "    # factor in the actual cost in currency (relics)\n",
    "    # it's 3 because each item you roll it costs 4, but you \n",
    "    # can salvage the result for 1 back no matter what\n",
    "    \n",
    "    # compare this to spending 10 and salvaging for a cost of 9\n",
    "    avg = 3 * np.mean(roll_results)\n",
    "    std = 3 * np.std(roll_results)\n",
    "    print(\"{0:>15} {1:>12.3} {2:>12.3}\".format(n, avg, std))"
   ]
  },
  {
   "cell_type": "code",
   "execution_count": null,
   "metadata": {
    "collapsed": true
   },
   "outputs": [],
   "source": []
  },
  {
   "cell_type": "code",
   "execution_count": null,
   "metadata": {
    "collapsed": true
   },
   "outputs": [],
   "source": []
  },
  {
   "cell_type": "code",
   "execution_count": null,
   "metadata": {
    "collapsed": true
   },
   "outputs": [],
   "source": []
  },
  {
   "cell_type": "code",
   "execution_count": null,
   "metadata": {
    "collapsed": true
   },
   "outputs": [],
   "source": []
  }
 ],
 "metadata": {
  "kernelspec": {
   "display_name": "Python 2",
   "language": "python",
   "name": "python2"
  },
  "language_info": {
   "codemirror_mode": {
    "name": "ipython",
    "version": 2
   },
   "file_extension": ".py",
   "mimetype": "text/x-python",
   "name": "python",
   "nbconvert_exporter": "python",
   "pygments_lexer": "ipython2",
   "version": "2.7.6"
  }
 },
 "nbformat": 4,
 "nbformat_minor": 0
}
