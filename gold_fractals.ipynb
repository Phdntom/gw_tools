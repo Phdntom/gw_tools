{
 "cells": [
  {
   "cell_type": "code",
   "execution_count": 1,
   "metadata": {
    "collapsed": true
   },
   "outputs": [],
   "source": [
    "from __future__ import division, print_function"
   ]
  },
  {
   "cell_type": "code",
   "execution_count": 2,
   "metadata": {
    "collapsed": true
   },
   "outputs": [],
   "source": [
    "import numpy as np"
   ]
  },
  {
   "cell_type": "code",
   "execution_count": 3,
   "metadata": {
    "collapsed": true
   },
   "outputs": [],
   "source": [
    "# number of unique weapons\n",
    "N = 19"
   ]
  },
  {
   "cell_type": "code",
   "execution_count": 4,
   "metadata": {
    "collapsed": false
   },
   "outputs": [
    {
     "data": {
      "text/plain": [
       "0.3503326527528525"
      ]
     },
     "execution_count": 4,
     "metadata": {},
     "output_type": "execute_result"
    }
   ],
   "source": [
    "np.random.uniform()"
   ]
  },
  {
   "cell_type": "code",
   "execution_count": 5,
   "metadata": {
    "collapsed": true
   },
   "outputs": [],
   "source": [
    "def roll_weapon(n, N):\n",
    "    '''\n",
    "    Args:\n",
    "        n (int): number of weapons you currently have\n",
    "        N (int): number of weapons there are\n",
    "    \n",
    "    Returns:\n",
    "        1: r < p(n); p(n) probability of item not in {n}.\n",
    "        0: r > p(n) = 1 - q(n) ; q(n) probability of an item already in {n}.\n",
    "        \n",
    "        r a random number from a unifom distribution.\n",
    "        \n",
    "    >>> roll_weapon(0, 19) == 1 # if you dont have any items, 100% chance\n",
    "    >>> roll_weapon(19,19) == 0 # if you have them all, 0% chance\n",
    "    '''\n",
    "    \n",
    "    # unique \n",
    "    p = (N - n) / N\n",
    "    # duplicate\n",
    "    q = n / N\n",
    "    \n",
    "    return int(np.random.uniform() <= p)\n",
    "    "
   ]
  },
  {
   "cell_type": "code",
   "execution_count": null,
   "metadata": {
    "collapsed": true
   },
   "outputs": [],
   "source": []
  },
  {
   "cell_type": "code",
   "execution_count": 7,
   "metadata": {
    "collapsed": false
   },
   "outputs": [
    {
     "name": "stdout",
     "output_type": "stream",
     "text": [
      " cur num   avg cost    std dev   s (<15.9%)   2s (<2.3%)   3s (<0.1%)\n",
      "       0        3.0        0.0          3.0          3.0          3.0\n",
      "       1      3.161     0.7126        3.874        4.586        5.299\n",
      "       2      3.357       1.08        4.438        5.518        6.599\n",
      "       3      3.573      1.407        4.979        6.386        7.793\n",
      "       4      3.802      1.754        5.556        7.311        9.065\n",
      "       5      4.054      2.068        6.122         8.19        10.26\n",
      "       6      4.343      2.426        6.769        9.196        11.62\n",
      "       7      4.698      2.751        7.449         10.2        12.95\n",
      "       8      5.206      3.332        8.537        11.87         15.2\n",
      "       9      5.674      3.888        9.562        13.45        17.34\n",
      "      10      6.346      4.538        10.88        15.42        19.96\n",
      "      11      7.255      5.567        12.82        18.39        23.96\n",
      "      12      8.146      6.571        14.72        21.29        27.86\n",
      "      13       9.48      7.827        17.31        25.13        32.96\n",
      "      14      11.32      9.729        21.05        30.78        40.51\n",
      "      15      14.44      13.01        27.46        40.47        53.49\n",
      "      16      18.99      17.62        36.61        54.22        71.84\n",
      "      17       28.6      27.11        55.71        82.82        109.9\n",
      "      18      56.68      55.03        111.7        166.7        221.8\n"
     ]
    }
   ],
   "source": [
    "n_trials = 10000\n",
    "print(\"{0:>8} {1:>10} {2:>10} {3:>12} {4:>12} {5:>12}\".format('cur num', 'avg cost', 'std dev',\n",
    "                                                       \"s (<15.9%)\", '2s (<2.3%)', '3s (<0.1%)'))\n",
    "# test results for all values of `n`: the number of items you have\n",
    "tot_avg = 0\n",
    "var = 0\n",
    "\n",
    "total_cost = []\n",
    "for n in range(19):\n",
    "    # simulation for each value of n\n",
    "    roll_results = []\n",
    "    for t in range(n_trials):\n",
    "        # rolling for unique item\n",
    "        num_rolls = 0\n",
    "        roll = 0\n",
    "        # roll until you get an item you don't have (roll == 1)\n",
    "        # and track the num rolls it took\n",
    "        while roll != 1:\n",
    "            roll = roll_weapon(n, 19)\n",
    "            num_rolls += 1\n",
    "        # keep results in a list of n_trials samples\n",
    "        roll_results.append(num_rolls)\n",
    "    # factor in the actual cost in currency (relics)\n",
    "    # it's 3 because each item you roll it costs 4, but you \n",
    "    # can salvage the result for 1 back no matter what\n",
    "    \n",
    "    # compare this to spending 10 and salvaging for a cost of 9\n",
    "    cost_avg = 3 * np.mean(roll_results)\n",
    "    cost_std = 3 * np.std(roll_results)\n",
    "    \n",
    "    sig1 = cost_avg + 1 * cost_std\n",
    "    sig2 = cost_avg + 2 * cost_std\n",
    "    sig3 = cost_avg + 3 * cost_std\n",
    "    total_cost.append(cost_avg)\n",
    "    if cost_avg < 9:\n",
    "        tot_avg += cost_avg\n",
    "        var += cost_std ** 2\n",
    "    else:\n",
    "        tot_avg += 9\n",
    "        # var += 0\n",
    "                \n",
    "    print(\"{0:>8} {1:>10.4} {2:>10.4} {3:>12.4} {4:>12.4} {5:>12.4}\".format(n, cost_avg, cost_std, sig1, sig2, sig3))"
   ]
  },
  {
   "cell_type": "code",
   "execution_count": 8,
   "metadata": {
    "collapsed": false
   },
   "outputs": [
    {
     "name": "stdout",
     "output_type": "stream",
     "text": [
      "avg_total sig1          sig2          sig3\n",
      "116.6163 128.676369496 140.736438992 152.796508488\n"
     ]
    }
   ],
   "source": [
    "print('avg_total', 'sig1', '         sig2', '         sig3')\n",
    "print(tot_avg, tot_avg + np.sqrt(var), tot_avg + 2 * np.sqrt(var), tot_avg + 3 * np.sqrt(var))\n",
    "#print(tot_cut1, tot_cut1 + np.sqrt(var1))\n"
   ]
  },
  {
   "cell_type": "code",
   "execution_count": 21,
   "metadata": {
    "collapsed": false
   },
   "outputs": [
    {
     "name": "stdout",
     "output_type": "stream",
     "text": [
      " \n",
      "       1          9        3.0        3.0\n",
      "       2         18     6.1611     6.1611\n",
      "       3         27     9.5184     9.5184\n",
      "       4         36    13.0911    13.0911\n",
      "       5         45    16.8933    16.8933\n",
      "       6         54    20.9478    20.9478\n",
      "       7         63    25.2909    25.2909\n",
      "       8         72    29.9889    29.9889\n",
      "       9         81    35.1945    35.1945\n",
      "      10         90    40.8681    40.8681\n",
      "      11         99    47.2143    47.2143\n",
      "      12        108    54.4698    54.4698\n",
      "      13        117    62.6163    62.6163\n",
      "      14        126    72.0966    71.6163\n",
      "      15        135    83.4171    80.6163\n",
      "      16        144    97.8588    89.6163\n",
      "      17        153   116.8467    98.6163\n",
      "      18        162   145.4451   107.6163\n",
      "      19        171   202.1262   116.6163\n"
     ]
    }
   ],
   "source": [
    "print(\" \")\n",
    "rand_sum = 0\n",
    "dumb_sum = 0\n",
    "smart_sum = 0\n",
    "for n, v in enumerate(total_cost):\n",
    "    dumb_sum += 9\n",
    "    rand_sum += v\n",
    "    if v > 9:\n",
    "        smart_sum += 9\n",
    "    else:\n",
    "        smart_sum += v\n",
    "    print(\"{0:>8} {1:>10} {2:>10} {3:>10}\".format(n+1, dumb_sum, rand_sum, smart_sum))"
   ]
  },
  {
   "cell_type": "code",
   "execution_count": null,
   "metadata": {
    "collapsed": true
   },
   "outputs": [],
   "source": []
  },
  {
   "cell_type": "code",
   "execution_count": null,
   "metadata": {
    "collapsed": true
   },
   "outputs": [],
   "source": []
  }
 ],
 "metadata": {
  "kernelspec": {
   "display_name": "Python 2",
   "language": "python",
   "name": "python2"
  },
  "language_info": {
   "codemirror_mode": {
    "name": "ipython",
    "version": 2
   },
   "file_extension": ".py",
   "mimetype": "text/x-python",
   "name": "python",
   "nbconvert_exporter": "python",
   "pygments_lexer": "ipython2",
   "version": "2.7.6"
  }
 },
 "nbformat": 4,
 "nbformat_minor": 0
}
