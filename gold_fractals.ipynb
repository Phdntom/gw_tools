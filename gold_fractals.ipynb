{
 "cells": [
  {
   "cell_type": "code",
   "execution_count": 2,
   "metadata": {
    "collapsed": true
   },
   "outputs": [],
   "source": [
    "from __future__ import division, print_function"
   ]
  },
  {
   "cell_type": "code",
   "execution_count": 4,
   "metadata": {
    "collapsed": true
   },
   "outputs": [],
   "source": [
    "import numpy as np"
   ]
  },
  {
   "cell_type": "code",
   "execution_count": 1,
   "metadata": {
    "collapsed": true
   },
   "outputs": [],
   "source": [
    "# number of unique weapons\n",
    "N = 19"
   ]
  },
  {
   "cell_type": "code",
   "execution_count": 5,
   "metadata": {
    "collapsed": false
   },
   "outputs": [
    {
     "data": {
      "text/plain": [
       "0.5479804460266374"
      ]
     },
     "execution_count": 5,
     "metadata": {},
     "output_type": "execute_result"
    }
   ],
   "source": [
    "np.random.uniform()"
   ]
  },
  {
   "cell_type": "code",
   "execution_count": 8,
   "metadata": {
    "collapsed": true
   },
   "outputs": [],
   "source": [
    "def roll_weapon(n, N):\n",
    "    '''\n",
    "    Args:\n",
    "        n (int): number of weapons you currently have\n",
    "        N (int): number of weapons there are\n",
    "    \n",
    "    Returns:\n",
    "        1: r < p(n); p(n) probability of item not in {n}.\n",
    "        0: r > p(n) = 1 - q(n) ; q(n) probability of an item already in {n}.\n",
    "        \n",
    "        r a random number from a unifom distribution.\n",
    "        \n",
    "    >>> roll_weapon(0, 19) == 1 # if you dont have any items, 100% chance\n",
    "    >>> roll_weapon(19,19) == 0 # if you have them all, 0% chance\n",
    "    '''\n",
    "    \n",
    "    # unique \n",
    "    p = (N - n) / N\n",
    "    # duplicate\n",
    "    q = n / N\n",
    "    \n",
    "    return int(np.random.uniform() <= p)\n",
    "    "
   ]
  },
  {
   "cell_type": "code",
   "execution_count": 21,
   "metadata": {
    "collapsed": true
   },
   "outputs": [],
   "source": []
  },
  {
   "cell_type": "code",
   "execution_count": 107,
   "metadata": {
    "collapsed": false
   },
   "outputs": [
    {
     "name": "stdout",
     "output_type": "stream",
     "text": [
      "    current num        avg cost    std dev cost       sig (<15.9%)       2sig (<2.3%)       3sig (<0.1%)\n",
      "              0             3.0             0.0                3.0                3.0                3.0\n",
      "              1            3.17          0.7306                3.9              4.631              5.361\n",
      "              2           3.354           1.088              4.443              5.531              6.619\n",
      "              3           3.561           1.409               4.97              6.379              7.788\n",
      "              4             3.8           1.754              5.554              7.308              9.061\n",
      "              5           4.079             2.1              6.178              8.278              10.38\n",
      "              6            4.38           2.447              6.826              9.273              11.72\n",
      "              7           4.748           2.887              7.635              10.52              13.41\n",
      "              8           5.175           3.376               8.55              11.93               15.3\n",
      "              9           5.702           3.898              9.601               13.5               17.4\n",
      "             10           6.345           4.606              10.95              15.56              20.16\n",
      "             11           7.123           5.425              12.55              17.97               23.4\n",
      "             12           8.155           6.473              14.63               21.1              27.57\n",
      "             13           9.517           7.859              17.38              25.23              33.09\n",
      "             14           11.36           9.707              21.07              30.78              40.48\n",
      "             15           14.24           12.67              26.91              39.59              52.26\n",
      "             16           18.94           17.35              36.29              53.65               71.0\n",
      "             17           28.49           26.95              55.43              82.38              109.3\n",
      "             18           57.03           55.46              112.5              168.0              223.4\n"
     ]
    }
   ],
   "source": [
    "n_trials = 100000\n",
    "print(\"{0:>10} {1:>10} {2:>10} {3:>10} {4:>10} {5:>10}\".format('current num', 'avg cost', 'std dev cost',\n",
    "                                                       \"sig (<15.9%)\", '2sig (<2.3%)', '3sig (<0.1%)'))\n",
    "# test results for all values of `n`: the number of items you have\n",
    "tot_avg = 0\n",
    "tot_sig1 = 0\n",
    "var1 = 0\n",
    "for n in range(19):\n",
    "    # simulation for each value of n\n",
    "    roll_results = []\n",
    "    for t in range(n_trials):\n",
    "        # rolling for unique item\n",
    "        num_rolls = 0\n",
    "        roll = 0\n",
    "        # roll until you get an item you don't have (roll == 1)\n",
    "        # and track the num rolls it took\n",
    "        while roll != 1:\n",
    "            roll = roll_weapon(n, 19)\n",
    "            num_rolls += 1\n",
    "        # keep results in a list of n_trials samples\n",
    "        roll_results.append(num_rolls)\n",
    "    # factor in the actual cost in currency (relics)\n",
    "    # it's 3 because each item you roll it costs 4, but you \n",
    "    # can salvage the result for 1 back no matter what\n",
    "    \n",
    "    # compare this to spending 10 and salvaging for a cost of 9\n",
    "    cost_avg = 3 * np.mean(roll_results)\n",
    "    cost_std = 3 * np.std(roll_results)\n",
    "    cost_max = 3 * np.max(roll_results)\n",
    "    sig1 = cost_avg + 1 * cost_std\n",
    "    sig2 = cost_avg + 2 * cost_std\n",
    "    sig3 = cost_avg + 3 * cost_std\n",
    "    if cost_avg < 9:\n",
    "        tot_avg += cost_avg\n",
    "    else:\n",
    "        tot_avg += 9\n",
    "\n",
    "    var1 += cost_std ** 2\n",
    "                \n",
    "    print(\"{0:>10} {1:>10.4} {2:>10.4} {3:>10.4} {4:>10.4} {5:>18.4}\".format(n, cost_avg, cost_std, sig1, sig2, sig3))"
   ]
  },
  {
   "cell_type": "code",
   "execution_count": 108,
   "metadata": {
    "collapsed": false
   },
   "outputs": [
    {
     "name": "stdout",
     "output_type": "stream",
     "text": [
      "avg_total relics, sig1_total_relics\n",
      "116.58993 184.153479039\n"
     ]
    }
   ],
   "source": [
    "print('avg_total relics, sig1_total_relics')\n",
    "print(tot_avg, tot_avg + np.sqrt(var1))"
   ]
  },
  {
   "cell_type": "code",
   "execution_count": null,
   "metadata": {
    "collapsed": true
   },
   "outputs": [],
   "source": []
  },
  {
   "cell_type": "code",
   "execution_count": null,
   "metadata": {
    "collapsed": true
   },
   "outputs": [],
   "source": []
  },
  {
   "cell_type": "code",
   "execution_count": null,
   "metadata": {
    "collapsed": true
   },
   "outputs": [],
   "source": []
  }
 ],
 "metadata": {
  "kernelspec": {
   "display_name": "Python 2",
   "language": "python",
   "name": "python2"
  },
  "language_info": {
   "codemirror_mode": {
    "name": "ipython",
    "version": 2
   },
   "file_extension": ".py",
   "mimetype": "text/x-python",
   "name": "python",
   "nbconvert_exporter": "python",
   "pygments_lexer": "ipython2",
   "version": "2.7.6"
  }
 },
 "nbformat": 4,
 "nbformat_minor": 0
}
